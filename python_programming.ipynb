{
  "cells": [
    {
      "cell_type": "markdown",
      "metadata": {
        "id": "view-in-github",
        "colab_type": "text"
      },
      "source": [
        "<a href=\"https://colab.research.google.com/github/Boryan71/mipt_python/blob/main/python_programming.ipynb\" target=\"_parent\"><img src=\"https://colab.research.google.com/assets/colab-badge.svg\" alt=\"Open In Colab\"/></a>"
      ]
    },
    {
      "cell_type": "markdown",
      "metadata": {
        "pycharm": {
          "name": "#%% md\n"
        },
        "id": "P_bpT_NzquBB"
      },
      "source": [
        "# Python и инструменты машинного обучения\n",
        "\n",
        "\n",
        "<img src=\"https://www.python.org/static/community_logos/python-logo-master-v3-TM.png\" align=\"right\" style=\"height: 200px;\"/>"
      ]
    },
    {
      "cell_type": "markdown",
      "source": [
        "# Содержание"
      ],
      "metadata": {
        "id": "xFmsCG1l88wP"
      }
    },
    {
      "cell_type": "markdown",
      "source": [
        "1. Что такое программирование?\n",
        "2. Язык программирования Python\n",
        "3. Основные типы данных в Python\n",
        "4. Среды разработки (программы для написания программ)\n",
        "\n",
        "---\n",
        "\n",
        "5. Условные операторы\n",
        "\n",
        "..."
      ],
      "metadata": {
        "id": "lx_14psH87wg"
      }
    },
    {
      "cell_type": "markdown",
      "source": [
        "# Что такое программирование?"
      ],
      "metadata": {
        "id": "wxsu6yIp9jUE"
      }
    },
    {
      "cell_type": "markdown",
      "source": [
        "**Программирование** - написание инструкций для компьютеров для решения желаемой задачи.\n",
        "\n",
        "Подробную инструкцию для компьютера, описывающую набор шагов для решения задачи, называют **алгоритмом**."
      ],
      "metadata": {
        "id": "ZdQmirck9mnU"
      }
    },
    {
      "cell_type": "markdown",
      "source": [
        "Подавляющее большинство задач выглядит следующим образом:\n",
        "\n",
        "**Входные данные** (описание задачи) ---> **Алгоритм** --> **Выходные данные** (получаемый результат)"
      ],
      "metadata": {
        "id": "0tUhUzCzBqwj"
      }
    },
    {
      "cell_type": "markdown",
      "source": [
        "## Что представляет собой алгоритм?"
      ],
      "metadata": {
        "id": "q8RyYw6DD_8g"
      }
    },
    {
      "cell_type": "markdown",
      "source": [
        ">**Компьютеры очень глупы! Алгоритм для них должен быть сформулирован очень подробно!**"
      ],
      "metadata": {
        "id": "37_Up8l6NNP5"
      }
    },
    {
      "cell_type": "markdown",
      "source": [
        "Например, нельзя просто сказать ему: \"Переведи полученное количество градусов по Цельсию в градусы по Фаренгейту\", ему нужно расписать все подробно:\n",
        "\n",
        "1. Считай число и запомни его как `a`\n",
        "2. Домножь запомненное число `a` на 9 и запомни как `a`\n",
        "3. Раздели число `a` на 5 и запомни как `a`\n",
        "4. Прибавь 32 к числу `a` и запомни как `a`\n",
        "5. Верни число `a`\n",
        "\n",
        "И так по сути нужно для решения каждой задачи!"
      ],
      "metadata": {
        "id": "hmruB_KfETcv"
      }
    },
    {
      "cell_type": "markdown",
      "source": [
        ">**Примечание:** в современных языках программирования вам не нужно всегда настолько подробно все расписывать, многие частоиспользуемые наборы действий (вспомогательные алгоритмы) уже написаны другими программистами, и вы можете их использовать."
      ],
      "metadata": {
        "id": "joIR8bHQG-Ul"
      }
    },
    {
      "cell_type": "markdown",
      "source": [
        "Помимо арифметических операций и операций запоминания значений имеются и другие, например:\n",
        "- условные операторы - выбор одного из двух наборов действий в зависимости от какого-либо условия\n",
        "- циклы - повторить набор действий некоторое количество раз"
      ],
      "metadata": {
        "id": "HfeirryBIF1f"
      }
    },
    {
      "cell_type": "markdown",
      "source": [
        "Более того, компьютеры до жути формалисты и все воспринимают дословно! Программистам для написания программ порой приходится мыслить \"как компьютер\", и часто это мышление отличается от бытового:"
      ],
      "metadata": {
        "id": "1ly7G-WxHzVw"
      }
    },
    {
      "cell_type": "markdown",
      "source": [
        ">Жена отправляет мужа-программиста в магазин:<br>\n",
        ">— Купи батон хлеба, если будут яйца — возьми десяток.<br>\n",
        ">Муж возвращается из магазина с десятью батонами.<br>\n",
        ">— Ты зачем столько хлеба купил?<br>\n",
        ">— Так ведь яйца были."
      ],
      "metadata": {
        "id": "Wegme8tjKJvG"
      }
    },
    {
      "cell_type": "markdown",
      "source": [
        "## Как именно написать алгоритм?"
      ],
      "metadata": {
        "id": "16I4WI1pHY_s"
      }
    },
    {
      "cell_type": "markdown",
      "source": [
        ">**Компьютеры очень глупы!**"
      ],
      "metadata": {
        "id": "XIi9A2uUHb-L"
      }
    },
    {
      "cell_type": "markdown",
      "source": [
        "Компьютеры совсем не понимают человеческий язык, при чем любой! Они понимают лишь набор нулей и единиц\\* (бинарный код) - для них это очень эффективный способ общения.\n",
        "\n",
        "К сожалению, люди плохо воспринимают код бинарный код, например, сообщение:\n",
        "\n",
        ">I love programming\n",
        "\n",
        "воспринимается гораздо лучше, чем:\n",
        "\n",
        ">010010010010000001101100011011110111011001100101001000000111000001110010011011110110011101110010011000010110110101101101011010010110111001100111"
      ],
      "metadata": {
        "id": "dVKDoN7PNOx9"
      }
    },
    {
      "cell_type": "markdown",
      "source": [
        ">**Примечание:** команды для компьютера (точнее для процессора) представляют собой не просто набор нулей и единиц, а набор специальных команд - машинный код. Но в эту область мы углубляться не будем."
      ],
      "metadata": {
        "id": "Qs_DCnbbPY5A"
      }
    },
    {
      "cell_type": "markdown",
      "source": [
        "В давние времена инструкции для компьютера и набирали с помощью нулей и единиц, например, с помощью перфокарт:"
      ],
      "metadata": {
        "id": "9LZ9PfCfQ0Ba"
      }
    },
    {
      "cell_type": "markdown",
      "source": [
        "![](https://droider.ru/wp-content/uploads/2022/08/image15-1.png)"
      ],
      "metadata": {
        "id": "WHxuVa2yTu41"
      }
    },
    {
      "cell_type": "markdown",
      "source": [
        "**Языки программирования** (ЯП) позволяют формулировать инструкции для компьютеров с помощью более понятных человеку слов и выражений.\n",
        "\n",
        ">**Примечание:** чаще всего ЯП в своей основе используют английский, поэтому если не знаете / плохо знаете английский, то советую начать изучать, а пока активно пользоваться онлайн-переводчиками."
      ],
      "metadata": {
        "id": "eTVV9fE9Qmnp"
      }
    },
    {
      "cell_type": "markdown",
      "source": [
        "С помощью ЯП вы формулируете инструкции для компьютера."
      ],
      "metadata": {
        "id": "60KwPFdUU2uO"
      }
    },
    {
      "cell_type": "markdown",
      "source": [
        ">**Основная задача программиста** - разбить решение задачи на отдельные шаги и описать их выполнение для компьютера с помощью ЯП."
      ],
      "metadata": {
        "id": "YO5G6JuIYn3Z"
      }
    },
    {
      "cell_type": "markdown",
      "source": [
        "## Компиляторы и интерпретаторы"
      ],
      "metadata": {
        "id": "1uVYB8ykVj-5"
      }
    },
    {
      "cell_type": "markdown",
      "source": [
        "Итак, программист пишет набор инструкций (код) на ЯП, который понятен нам, но как компьютер понимает, что именно мы написали?\n",
        "\n",
        "Для этого нам нужен переводчик - специальная программа, которая преобразует инструкции, написанные на ЯП, в машинный код!\n",
        "\n",
        "Обычно для каждого языка программирования есть такая программа-переводчик."
      ],
      "metadata": {
        "id": "DgYbq9c1Uzuw"
      }
    },
    {
      "cell_type": "markdown",
      "source": [
        "В итоге запуск программы состоит из следующих этапов:\n",
        "1. Программист пишет программу на ЯП\n",
        "2. Программа-переводчик переводит написанные команды в машинный код\n",
        "3. Компьютер исполняет машинный код"
      ],
      "metadata": {
        "id": "i8G_mMKCWoAF"
      }
    },
    {
      "cell_type": "markdown",
      "source": [
        "Есть 2 основных\\* способа перевода инструкций в машинный код - переводить всю программу целиком или переводить ее по кусочкам (по отдельным командам). По этому принципу языки разделяют на компилируемые и интерпретируемые:"
      ],
      "metadata": {
        "id": "A_LvIUTkWBv5"
      }
    },
    {
      "cell_type": "markdown",
      "source": [
        "- В **компилируемых** используется специальная программа - **компилятор**, которая берет программу **целиком** и преобразует (компилирует) ее в исполняемый компьютерный код. После этого компьютер может исполнять скомпилированную программу. Компилятор способен выполнять многие или даже все операции: предварительную обработку исходной программы, парсинг, семантический анализ, преобразование входных программ в промежуточное представление, оптимизацию и генерацию кода.\n",
        "\n",
        "    ![compiler](https://cdn-images-1.medium.com/max/533/0*OaEDlCa01FEDRIQ8)\n",
        "    \n",
        "    *Source: [NoP](https://nuancesprog.ru/p/12524/)*\n"
      ],
      "metadata": {
        "id": "0Fyt8qFYXRgy"
      }
    },
    {
      "cell_type": "markdown",
      "source": [
        "- В **интерпретируемых** преобразование осуществляется **интерпретатором** последовательно - оператор за оператором.\n",
        "\n",
        "    ![interpreter](https://cdn-images-1.medium.com/max/533/0*MddNw1pcH9OJiekl)\n",
        "\n",
        "    *Source: [NoP](https://nuancesprog.ru/p/12524/)*"
      ],
      "metadata": {
        "id": "xqZJW8KzV97g"
      }
    },
    {
      "cell_type": "markdown",
      "source": [
        "И **компилятор**, и **интерпретатор** выполняют одну и ту же работу  —  преобразовывают язык программирования высокого уровня в машинный код. Однако **компилятор** преобразовывает исходный материал в машинный код **перед запуском** программы. **Интерпретатор** выполняет эту функцию **при ее запуске**."
      ],
      "metadata": {
        "id": "6cq-o5gTXVXg"
      }
    },
    {
      "cell_type": "markdown",
      "source": [
        "- Компилируемые ЯП - C, C++.\n",
        "- Интерпретируемые ЯП - Perl, Python и Matlab."
      ],
      "metadata": {
        "id": "pK3w8hp9XbEj"
      }
    },
    {
      "cell_type": "markdown",
      "source": [
        "### Преимущества и недостатки"
      ],
      "metadata": {
        "id": "KvSuIxIzzwB_"
      }
    },
    {
      "cell_type": "markdown",
      "source": [
        "**Преимущества компилятора:**\n",
        "- Программный код переводится целиком - можно оптимизировать его на низком уровне, тем самым сделать **быстрее**\n",
        "- Объектные программы **лучше защищены от изменения** пользователем сложнее изменить, чем исходный код\n",
        "- Компилятор **проверяет исходный код** на наличие синтаксических ошибок во время компиляции"
      ],
      "metadata": {
        "id": "0zNh_8LCYGJw"
      }
    },
    {
      "cell_type": "markdown",
      "source": [
        "**Недостатки компилятора:**\n",
        "- Поскольку переводится вся программа, она **использует гораздо больше памяти** компьютера\n",
        "- При работе с компилятором **невозможно\\* изменить программу**, не вернувшись к исходному коду\n",
        "- Компилирование может занимать **очень много времени**\n",
        "\n",
        "    ![compiling](https://xkcd.ru/i/303_v2.png)\n",
        "\n",
        "    *Source: [xkcd.ru](https://xkcd.ru/303/)*\n",
        "- Исходный код должен быть **на 100% верным** для создания исполняемого файла\n",
        "- Компилирование выполняется **только под определенную платформу** (x86, arm, ...)"
      ],
      "metadata": {
        "id": "ndduPpPbYIUc"
      }
    },
    {
      "cell_type": "markdown",
      "source": [
        "**Преимущества интерпретатора:**\n",
        "- С интерпретатором **проще работать с исходным кодом**\n",
        "- Перевод по одной инструкции за раз, поэтому использует **минимальный объем памяти**"
      ],
      "metadata": {
        "id": "kZa-Dkb2YKPm"
      }
    },
    {
      "cell_type": "markdown",
      "source": [
        "**Недостатки интерпретатора:**\n",
        "- Каждый раз, когда программа выполняется, тратится время на интерпретацию, из-за чего **затягивается время исполнения**\n",
        "- Для запуска интерпретируемой программы **необходим интерпретатор**"
      ],
      "metadata": {
        "id": "HecH45Y-YLsZ"
      }
    },
    {
      "cell_type": "markdown",
      "source": [
        "## Хранение данных"
      ],
      "metadata": {
        "id": "4E7x2voIZUzc"
      }
    },
    {
      "cell_type": "markdown",
      "source": [
        "Часто в процессе написания программ вам нужно как-либо сохранить промежуточные результаты работы вашего алгоритма.\n",
        "\n",
        "Например, в задаче из анекдота \"Купи батон хлеба, если будут яйца — возьми десяток.\" вам нужно запомнить есть ли в магазине яйца, а затем в зависимости от этого сделать одно или другое действие."
      ],
      "metadata": {
        "id": "YE8gEVJ0ZZ2v"
      }
    },
    {
      "cell_type": "markdown",
      "source": [
        "Но как и где компьютер хранит необходимые для работы программы данные?"
      ],
      "metadata": {
        "id": "AwN0yLUPbPKZ"
      }
    },
    {
      "cell_type": "markdown",
      "source": [
        "### Оперативная память"
      ],
      "metadata": {
        "id": "NotSbTc7by6Y"
      }
    },
    {
      "cell_type": "markdown",
      "source": [
        "Все данные, которыми оперирует компьютер при исполнении программы, хранятся в **оперативной памяти**.\n",
        "\n",
        "Все данные в оперативной памяти хранятся в двоичной форме в отдельных ячейках. У каждой ячейки есть свой адрес (порядковый номер), зная нужный адрес, компьютер может считать значение из ячейки или записать в нее новое значение."
      ],
      "metadata": {
        "id": "r_9GsI-qjRIO"
      }
    },
    {
      "cell_type": "markdown",
      "source": [
        "**Как компьютер узнает адрес ячейки?**\n",
        "\n",
        "За выделение отдельным работающим на компьютере программам (не только нашей) отвечает **операционная система** (ОС). Она следит за тем, какая программа занимает какие ячейки памяти и какие ячейки еще свободны (не используются).\n",
        "\n",
        "Исполняемая программа обращается к ОС и запрашивает свободную ячейку, ОС дает адрес свободной ячейки и закрепляет ее за этой программой."
      ],
      "metadata": {
        "id": "wKOHerHckjP7"
      }
    },
    {
      "cell_type": "markdown",
      "source": [
        "### Переменные"
      ],
      "metadata": {
        "id": "A18YaP_ai9s1"
      }
    },
    {
      "cell_type": "markdown",
      "source": [
        "С ячейками оперативной памяти есть 2 основных проблемы:\n",
        "1. Одной ячейки чаще всего не хватает для хранения какой-либо информации\n",
        "\n",
        "    Например, число 10 в двоичной системе записывается как `1010`, для его записи нужна **группа** из минимум 4 ячеек\n",
        "\n",
        "2. Числовые адреса ячеек неудобны\n",
        "\n",
        "    Обращаться ко всем данных как `переменная1, переменная2` или по адресу вида `0x7fb41711c130` крайне неудобно нам, человекам"
      ],
      "metadata": {
        "id": "gWJSLboxlfFv"
      }
    },
    {
      "cell_type": "markdown",
      "source": [
        "Эти проблемы решаются с помощью **переменных**. По сути они являются объединение нескольких ячеек памяти, обращение к ним происходит по **уникальному имени**.\n",
        "\n",
        "Поэтому в программах не напрямую с ячейками памяти, а именно с переменными."
      ],
      "metadata": {
        "id": "RBMLbXGHmfhy"
      }
    },
    {
      "cell_type": "markdown",
      "source": [
        "## Типы данных"
      ],
      "metadata": {
        "id": "aWz2JgWWb2px"
      }
    },
    {
      "cell_type": "markdown",
      "source": [
        "Итак, все данные хранятся в переменных в виде наборов нулей и единиц. \n",
        "\n",
        "Но как программа понимает, что именно представлено этим набором? Ведь и числа, и строки, и что-то посложнее для программы являются набором нулей и единиц, но при этом умножить одно число на другое можно, а вот строки - нет. "
      ],
      "metadata": {
        "id": "AutsCH6XnL7p"
      }
    },
    {
      "cell_type": "markdown",
      "source": [
        "Для этого существуют **типы данных** - вспомогательные данные о том, что именно хранится в той или иной переменной.\n",
        "\n",
        "С некоторыми типами данных мы познакомимся сегодня."
      ],
      "metadata": {
        "id": "jHp7jGhDnuka"
      }
    },
    {
      "cell_type": "markdown",
      "source": [
        "### Типизация данных в ЯП"
      ],
      "metadata": {
        "id": "npQOwegDcvEX"
      }
    },
    {
      "cell_type": "markdown",
      "source": [
        "Разные ЯП по разному работают с типами данных. От этого зависит то, как вы должны и как вы можете обращаться с переменными.\n",
        "\n",
        "Существует несколько классификаций:"
      ],
      "metadata": {
        "id": "qpziLdXHo6tz"
      }
    },
    {
      "cell_type": "markdown",
      "source": [
        "#### Сильная / слабая типизации\n",
        "\n",
        "\n",
        "\n"
      ],
      "metadata": {
        "id": "0SlhZRRM3Pby"
      }
    },
    {
      "cell_type": "markdown",
      "source": [
        "Также известны как строгая / нестрогая типизации. Показывает можно ли совершать операции с разными типами данных.\n",
        "\n",
        "В языках со слабой типизацией часто возможны операции типа: `число + строка`. Обычно это достигается за счет определенных правил приведения типов, которые применяются неявно. Это может быть как удобно, так и запутывающе:"
      ],
      "metadata": {
        "id": "-WqIrP16pLPh"
      }
    },
    {
      "cell_type": "markdown",
      "source": [
        "![weak_typo](http://sun9-41.userapi.com/impf/c852136/v852136356/1abb55/B-qZf_l-sQk.jpg?size=604x604&quality=96&sign=dd974c5903dc07517b1026f7f963dac8&type=album)\n",
        "\n",
        "*Source: [/dev/null](https://vk.com/wall-72495085_997870)*\n"
      ],
      "metadata": {
        "id": "SzScIEm1pNO_"
      }
    },
    {
      "cell_type": "markdown",
      "source": [
        "\n",
        "**Примеры:**\n",
        "- **Сильная:** Perl, Ruby, Python\n",
        "- **Слабая:** C, C++"
      ],
      "metadata": {
        "id": "1rXP5noMpPaR"
      }
    },
    {
      "cell_type": "markdown",
      "metadata": {
        "pycharm": {
          "name": "#%% md\n"
        },
        "id": "KdDYb1h8quBH"
      },
      "source": [
        "#### Статическая / динамическая"
      ]
    },
    {
      "cell_type": "markdown",
      "source": [
        "При статической типизации конечные типы переменных устанавливаются до выполнения программы, обычно на этапе компиляции. Так, в динамически типизированном языке у одной и той же переменной могут быть разные типы в разных частях программы, а в статически типизированном, если вы создали переменную типа \"строка\", то записать в нее что-то кроме строки вы не сможете.\n",
        "\n",
        "**Примеры:**\n",
        "- **Статическая:** C, Java, C#\n",
        "- **Динамическая:** Python, JavaScript, Ruby, Objective-C"
      ],
      "metadata": {
        "id": "mDIO3SK_qV83"
      }
    },
    {
      "cell_type": "markdown",
      "metadata": {
        "pycharm": {
          "name": "#%% md\n"
        },
        "id": "U--jaPTCquBI"
      },
      "source": [
        "#### Явная / неявная типизация"
      ]
    },
    {
      "cell_type": "markdown",
      "source": [
        "Явно-типизированные языки отличаются тем, что тип новых переменных нужно задавать явно. Языки с неявной типизацией перекладывают эту задачу на компилятор / интерпретатор.\n",
        "\n",
        "**Примеры:**\n",
        "- **Явная:** C++, C#, Rust\n",
        "- **Неявная:** Python, PHP, JavaScript"
      ],
      "metadata": {
        "id": "J2qVs8ZYqYQ0"
      }
    },
    {
      "cell_type": "markdown",
      "metadata": {
        "pycharm": {
          "name": "#%% md\n"
        },
        "id": "uQ737pAiquBC"
      },
      "source": [
        "# Знакомство с Python\n",
        "\n",
        "\n",
        "\n"
      ]
    },
    {
      "cell_type": "markdown",
      "source": [
        "## Историческая справка"
      ],
      "metadata": {
        "id": "bXc2J3MFsb6L"
      }
    },
    {
      "cell_type": "markdown",
      "source": [
        "Язык Python разрабатывался Гвидо ван Россумом с 1989 г.\n",
        "\n",
        "![guido](https://upload.wikimedia.org/wikipedia/commons/thumb/6/66/Guido_van_Rossum_OSCON_2006.jpg/400px-Guido_van_Rossum_OSCON_2006.jpg)\n",
        "\n",
        "*Source: [Wikipedia](https://upload.wikimedia.org/wikipedia/commons/thumb/6/66/Guido_van_Rossum_OSCON_2006.jpg/400px-Guido_van_Rossum_OSCON_2006.jpg)*\n",
        "\n",
        "Назван в честь популярного британского комедийного телешоу 1970-х \"Летающий цирк Монти Пайтона\"."
      ],
      "metadata": {
        "id": "coSQgZZ9sfeg"
      }
    },
    {
      "cell_type": "markdown",
      "source": [
        "**Основные (мажорные) версии:**\n",
        "* Python 1.0 — январь 1994\n",
        "* Python 2.0 — 16.10.2000\n",
        "  * Python 2.7.18 - 20.04.2020 (последний релиз, больше не поддерживается)\n",
        "* Python 3.0 — 3.12.2008\n",
        "  * Python 3.11.0 - 24.10.2022"
      ],
      "metadata": {
        "id": "9Dz3L9z1si99"
      }
    },
    {
      "cell_type": "markdown",
      "source": [
        "Python вобрал в себя множество удобных и полезных аспектов других языков программирования (ABC, Lisp, Haskell, C, C++).\n",
        "\n",
        "Благодаря своей нацеленности на ясный синтаксис, Python играл центральную роль в проекте \"Computer Programming for Everybody\", предназначенном сделать программирование доступным для большего числа людей, на основе получения базовой «компьютерной грамотности»."
      ],
      "metadata": {
        "id": "rRcLLHals2F-"
      }
    },
    {
      "cell_type": "markdown",
      "metadata": {
        "pycharm": {
          "name": "#%% md\n"
        },
        "id": "Tfqk5TWrquBJ"
      },
      "source": [
        "## Дзен Python\n",
        "\n",
        "**Дзен Python** — это набор из 19 «руководящих принципов» написания программ, влияющих на структуру языка программирования Python. "
      ]
    },
    {
      "cell_type": "code",
      "execution_count": null,
      "metadata": {
        "pycharm": {
          "name": "#%%\n"
        },
        "id": "aNUwIOO6quBJ",
        "outputId": "e8a7d714-50c1-4895-9291-814c5c8eb6c2"
      },
      "outputs": [
        {
          "name": "stdout",
          "output_type": "stream",
          "text": [
            "The Zen of Python, by Tim Peters\n",
            "\n",
            "Beautiful is better than ugly.\n",
            "Explicit is better than implicit.\n",
            "Simple is better than complex.\n",
            "Complex is better than complicated.\n",
            "Flat is better than nested.\n",
            "Sparse is better than dense.\n",
            "Readability counts.\n",
            "Special cases aren't special enough to break the rules.\n",
            "Although practicality beats purity.\n",
            "Errors should never pass silently.\n",
            "Unless explicitly silenced.\n",
            "In the face of ambiguity, refuse the temptation to guess.\n",
            "There should be one-- and preferably only one --obvious way to do it.\n",
            "Although that way may not be obvious at first unless you're Dutch.\n",
            "Now is better than never.\n",
            "Although never is often better than *right* now.\n",
            "If the implementation is hard to explain, it's a bad idea.\n",
            "If the implementation is easy to explain, it may be a good idea.\n",
            "Namespaces are one honking great idea -- let's do more of those!\n"
          ]
        }
      ],
      "source": [
        "import this"
      ]
    },
    {
      "cell_type": "markdown",
      "metadata": {
        "pycharm": {
          "name": "#%% md\n"
        },
        "id": "rHEp22C8quBD"
      },
      "source": [
        "## Основные свойства Python\n"
      ]
    },
    {
      "cell_type": "markdown",
      "metadata": {
        "pycharm": {
          "name": "#%% md\n"
        },
        "id": "QRazOGk2quBD"
      },
      "source": [
        "### Интерпретируемость"
      ]
    },
    {
      "cell_type": "markdown",
      "source": [
        "Python является **интерпретируемым** языком программирования. Его интепретатор называется `python`:"
      ],
      "metadata": {
        "id": "EWRLzK7b2fW-"
      }
    },
    {
      "cell_type": "code",
      "source": [
        "!python --version"
      ],
      "metadata": {
        "colab": {
          "base_uri": "https://localhost:8080/"
        },
        "id": "Mv4nQlnV2NlY",
        "outputId": "e2dfff01-2cd2-4b71-85f9-c40a02eecf6f"
      },
      "execution_count": null,
      "outputs": [
        {
          "output_type": "stream",
          "name": "stdout",
          "text": [
            "Python 3.7.13\n"
          ]
        }
      ]
    },
    {
      "cell_type": "markdown",
      "source": [
        "**Замечание 1:** вот мы и дошли до первой ячейки с кодом. Чтобы выполнить ее содержимое, есть несколько способов:\n",
        "*   ctrl + enter  (ячейка выполнится)\n",
        "*   shift + enter (ячейка выполнится + перейдем вниз)\n",
        "*   треугольничек в левой части строки\n",
        "\n",
        "**Замечание 2:** восклицательный знак перед `python` необходим, если вы хотите выполнить терминальную команду из Jupyter Notebook. Если вы запускаете интерпретатор из консоли, то восклицательный знак не нужен."
      ],
      "metadata": {
        "id": "yPFg4h5373W9"
      }
    },
    {
      "cell_type": "markdown",
      "source": [
        "По этой причине мы можем выполнять команды из языка Python поштучно и сразу наблюдать их результат, чем и будем пользоваться на занятиях."
      ],
      "metadata": {
        "id": "IdYmPVma5XNQ"
      }
    },
    {
      "cell_type": "markdown",
      "metadata": {
        "pycharm": {
          "name": "#%% md\n"
        },
        "id": "p6A21OdiquBE"
      },
      "source": [
        "### Сильная динамическая неявная типизация   "
      ]
    },
    {
      "cell_type": "markdown",
      "metadata": {
        "pycharm": {
          "name": "#%% md\n"
        },
        "id": "L2SpauTxquBF"
      },
      "source": [
        "**Пример сильной типизации в Python:**"
      ]
    },
    {
      "cell_type": "code",
      "execution_count": null,
      "metadata": {
        "pycharm": {
          "name": "#%%\n"
        },
        "colab": {
          "base_uri": "https://localhost:8080/",
          "height": 171
        },
        "id": "M0otCUd0quBF",
        "outputId": "f665b99d-99ab-4572-be57-876db6855cf1"
      },
      "outputs": [
        {
          "output_type": "error",
          "ename": "TypeError",
          "evalue": "ignored",
          "traceback": [
            "\u001b[0;31m---------------------------------------------------------------------------\u001b[0m",
            "\u001b[0;31mTypeError\u001b[0m                                 Traceback (most recent call last)",
            "\u001b[0;32m<ipython-input-22-8bb5b5697963>\u001b[0m in \u001b[0;36m<module>\u001b[0;34m\u001b[0m\n\u001b[0;32m----> 1\u001b[0;31m \u001b[0;36m3\u001b[0m \u001b[0;34m+\u001b[0m \u001b[0;34m'string'\u001b[0m\u001b[0;34m\u001b[0m\u001b[0;34m\u001b[0m\u001b[0m\n\u001b[0m",
            "\u001b[0;31mTypeError\u001b[0m: unsupported operand type(s) for +: 'int' and 'str'"
          ]
        }
      ],
      "source": [
        "3 + 'string'"
      ]
    },
    {
      "cell_type": "markdown",
      "source": [
        "**Замечание 1:** мы с вами впервые столкнулись с ошибкой на Python. В большинстве случаев чтобы понять, что происходит не так, достаточно посмотреть на какую строчку ругается Python и перевести текст ошибки. Поэтому для программистов рекомендуется знать английский хотя бы на базовом уровне."
      ],
      "metadata": {
        "id": "HWj5XU7c8kGi"
      }
    },
    {
      "cell_type": "markdown",
      "source": [
        "**Замечание 2:** часто Python используют не столько как язык программирования, как продвинутый калькулятор, позволяющий удобно выполнять большие вычисления."
      ],
      "metadata": {
        "id": "PR8juZzb7Pvh"
      }
    },
    {
      "cell_type": "markdown",
      "metadata": {
        "pycharm": {
          "name": "#%% md\n"
        },
        "id": "POX_Pk2equBH"
      },
      "source": [
        "**Пример динамической типизации в Python:**"
      ]
    },
    {
      "cell_type": "code",
      "execution_count": null,
      "metadata": {
        "pycharm": {
          "name": "#%%\n"
        },
        "colab": {
          "base_uri": "https://localhost:8080/"
        },
        "id": "hTiVRyPoquBI",
        "outputId": "f9c942c2-787c-48a7-834d-6db5496794cd"
      },
      "outputs": [
        {
          "output_type": "execute_result",
          "data": {
            "text/plain": [
              "int"
            ]
          },
          "metadata": {},
          "execution_count": 27
        }
      ],
      "source": [
        "a = 3\n",
        "type(a)"
      ]
    },
    {
      "cell_type": "code",
      "source": [
        "a = 'hello'\n",
        "type(a)"
      ],
      "metadata": {
        "colab": {
          "base_uri": "https://localhost:8080/"
        },
        "id": "_MJ2Lf1U71Jl",
        "outputId": "71d90a0b-19a7-40d4-89d8-e3843d9807c2"
      },
      "execution_count": null,
      "outputs": [
        {
          "output_type": "execute_result",
          "data": {
            "text/plain": [
              "str"
            ]
          },
          "metadata": {},
          "execution_count": 28
        }
      ]
    },
    {
      "cell_type": "markdown",
      "source": [
        "**Замечание:** здесь мы сталкиваемся с незнакомой функцией `type`. Пока ее можно воспринимать как функцию, возвращающую тип переменной. Сегодняшнее занятие - во многом вводное в плане Python, и ко многим вещам мы впоследствии вернемся и рассмотрим подробнее."
      ],
      "metadata": {
        "id": "DThdGSPJ9Fyd"
      }
    },
    {
      "cell_type": "markdown",
      "metadata": {
        "pycharm": {
          "name": "#%% md\n"
        },
        "id": "o1SOVZMdquBI"
      },
      "source": [
        "**Пример неявной типизации в Python:**"
      ]
    },
    {
      "cell_type": "code",
      "execution_count": null,
      "metadata": {
        "pycharm": {
          "name": "#%%\n"
        },
        "colab": {
          "base_uri": "https://localhost:8080/"
        },
        "id": "kvs_V961quBI",
        "outputId": "6f0ccd2a-47c9-4caf-fa97-9ff3dc1f457e"
      },
      "outputs": [
        {
          "output_type": "execute_result",
          "data": {
            "text/plain": [
              "int"
            ]
          },
          "metadata": {},
          "execution_count": 13
        }
      ],
      "source": [
        "a = 0\n",
        "type(a)"
      ]
    },
    {
      "cell_type": "markdown",
      "metadata": {
        "pycharm": {
          "name": "#%% md\n"
        },
        "id": "s333TdGwquBJ"
      },
      "source": [
        "### TODO Управление памятью"
      ]
    },
    {
      "cell_type": "markdown",
      "source": [
        "Выделение и освобождение памяти в Python происходит автоматически - не нужно следить за выделяемой памятью и чистить за собой. Тем не менее, забить память все еще можно.\n",
        "\n",
        "Подробности работы сбора мусора можно узнать [здесь](https://towardsdatascience.com/memory-management-and-garbage-collection-in-python-c1cb51d1612c)."
      ],
      "metadata": {
        "id": "0LhdMKR7uVNw"
      }
    },
    {
      "cell_type": "code",
      "source": [
        "a"
      ],
      "metadata": {
        "colab": {
          "base_uri": "https://localhost:8080/",
          "height": 34
        },
        "id": "qs7IH_QFjG--",
        "outputId": "b8f187dc-65af-4dca-ecb6-b729e92ef6da"
      },
      "execution_count": null,
      "outputs": [
        {
          "output_type": "execute_result",
          "data": {
            "text/plain": [
              "'hello'"
            ],
            "application/vnd.google.colaboratory.intrinsic+json": {
              "type": "string"
            }
          },
          "metadata": {},
          "execution_count": 29
        }
      ]
    },
    {
      "cell_type": "code",
      "source": [
        "del a"
      ],
      "metadata": {
        "id": "8iPUOz6XjIes"
      },
      "execution_count": null,
      "outputs": []
    },
    {
      "cell_type": "code",
      "source": [
        "a"
      ],
      "metadata": {
        "colab": {
          "base_uri": "https://localhost:8080/",
          "height": 168
        },
        "id": "RXCypepYjL9H",
        "outputId": "633ae8d2-c66e-48ea-9b09-07fc9bbfa665"
      },
      "execution_count": null,
      "outputs": [
        {
          "output_type": "error",
          "ename": "NameError",
          "evalue": "ignored",
          "traceback": [
            "\u001b[0;31m---------------------------------------------------------------------------\u001b[0m",
            "\u001b[0;31mNameError\u001b[0m                                 Traceback (most recent call last)",
            "\u001b[0;32m<ipython-input-31-3f786850e387>\u001b[0m in \u001b[0;36m<module>\u001b[0;34m\u001b[0m\n\u001b[0;32m----> 1\u001b[0;31m \u001b[0ma\u001b[0m\u001b[0;34m\u001b[0m\u001b[0;34m\u001b[0m\u001b[0m\n\u001b[0m",
            "\u001b[0;31mNameError\u001b[0m: name 'a' is not defined"
          ]
        }
      ]
    },
    {
      "cell_type": "markdown",
      "source": [
        "# Основы Python"
      ],
      "metadata": {
        "id": "h6FfaA0aAmUo"
      }
    },
    {
      "cell_type": "markdown",
      "source": [
        "## Создание переменных"
      ],
      "metadata": {
        "id": "a4ytcgAeu-nf"
      }
    },
    {
      "cell_type": "markdown",
      "source": [
        "В Python создание переменной и присваивание\\* ей значения выполняется следующим образом: "
      ],
      "metadata": {
        "id": "AtK20cgLAzQt"
      }
    },
    {
      "cell_type": "code",
      "source": [
        "variable = 4"
      ],
      "metadata": {
        "id": "4O8_TLuSA-KX"
      },
      "execution_count": null,
      "outputs": []
    },
    {
      "cell_type": "markdown",
      "source": [
        "Чтобы вывести значение переменной, можно воспользоваться функцией `print` или просто написать имя этой переменной (только в интерактивном режиме!):"
      ],
      "metadata": {
        "id": "PyD0osPnBC3i"
      }
    },
    {
      "cell_type": "code",
      "source": [
        "print(variable)"
      ],
      "metadata": {
        "colab": {
          "base_uri": "https://localhost:8080/"
        },
        "id": "pvMx3NIBBfns",
        "outputId": "7f18dc09-a42f-4e86-e246-70d07e4ae1be"
      },
      "execution_count": null,
      "outputs": [
        {
          "output_type": "stream",
          "name": "stdout",
          "text": [
            "4\n"
          ]
        }
      ]
    },
    {
      "cell_type": "code",
      "source": [
        "variable"
      ],
      "metadata": {
        "colab": {
          "base_uri": "https://localhost:8080/"
        },
        "id": "WZesEn9kBimX",
        "outputId": "2c32a8c9-44c1-4902-831f-9521cbbdc27f"
      },
      "execution_count": null,
      "outputs": [
        {
          "output_type": "execute_result",
          "data": {
            "text/plain": [
              "4"
            ]
          },
          "metadata": {},
          "execution_count": 34
        }
      ]
    },
    {
      "cell_type": "markdown",
      "source": [
        "### Какие имена переменных разрешены?"
      ],
      "metadata": {
        "id": "u2d58EyGvD3L"
      }
    },
    {
      "cell_type": "markdown",
      "source": [
        "Имена переменных удовлетворяют следующим правилам:\n",
        "\n",
        "- имя должно содержать только буквы, цифры и знаки нижнего подчеркивания (`_`)\n",
        "- имя должно начинаться только с буквы или нижнего подчеркивания "
      ],
      "metadata": {
        "id": "ejQosoa5vGdP"
      }
    },
    {
      "cell_type": "markdown",
      "source": [
        "**Примечания:**\n",
        "\n",
        "1. Имена переменных чувстсвительны к регистру - `age`, `Age` и `AGE` являются тремя разными именами\n",
        "2. Технически у вас есть возможность использовать не только буквы английского алфавита, но и русские, однако, так категорически не рекомендуется делать\n",
        "3. Советую называть переменные осмысленно, чтобы другой программист смог понять за что именно отвечает та или иная переменная"
      ],
      "metadata": {
        "id": "o6RopDqrvwXW"
      }
    },
    {
      "cell_type": "markdown",
      "source": [
        "### Множественное присваивание"
      ],
      "metadata": {
        "id": "EZrzyib1w0hv"
      }
    },
    {
      "cell_type": "markdown",
      "source": [
        "В Python добавлено очень много вещей, которые облегчают жизнь программисту, хоть и не являются критичными (можно обойтись и без них) - **синтаксический сахар**."
      ],
      "metadata": {
        "id": "ZqFlwbGkxPsa"
      }
    },
    {
      "cell_type": "markdown",
      "source": [
        "В Python можно одновременно присваивать двум переменным одно значение:"
      ],
      "metadata": {
        "id": "5v8VbOUCgYvA"
      }
    },
    {
      "cell_type": "code",
      "source": [
        "x = y = 500"
      ],
      "metadata": {
        "colab": {
          "base_uri": "https://localhost:8080/"
        },
        "id": "JzRfyaEbgbXv",
        "outputId": "0c22dbd7-385d-4939-b41e-625464048c3b"
      },
      "execution_count": null,
      "outputs": [
        {
          "output_type": "execute_result",
          "data": {
            "text/plain": [
              "(500, 500, True)"
            ]
          },
          "metadata": {},
          "execution_count": 36
        }
      ]
    },
    {
      "cell_type": "code",
      "source": [
        "x"
      ],
      "metadata": {
        "id": "3V5OHglcyGIk"
      },
      "execution_count": null,
      "outputs": []
    },
    {
      "cell_type": "code",
      "source": [
        "y"
      ],
      "metadata": {
        "id": "9VZpA2TFyG3t"
      },
      "execution_count": null,
      "outputs": []
    },
    {
      "cell_type": "markdown",
      "source": [
        "Можно присваивать двум переменным разные значения одновременно:"
      ],
      "metadata": {
        "id": "69irsJr3yBgG"
      }
    },
    {
      "cell_type": "code",
      "source": [
        "x, y = 100, 300"
      ],
      "metadata": {
        "colab": {
          "base_uri": "https://localhost:8080/"
        },
        "id": "sr0EaJzZgkH9",
        "outputId": "1c029cb8-d0ac-4588-f55c-d145e4061398"
      },
      "execution_count": null,
      "outputs": [
        {
          "output_type": "execute_result",
          "data": {
            "text/plain": [
              "(300, 100)"
            ]
          },
          "metadata": {},
          "execution_count": 37
        }
      ]
    },
    {
      "cell_type": "code",
      "source": [
        "x"
      ],
      "metadata": {
        "id": "M5paE_rEyOsb"
      },
      "execution_count": null,
      "outputs": []
    },
    {
      "cell_type": "code",
      "source": [
        "y"
      ],
      "metadata": {
        "id": "iAYcR-8uyPC4"
      },
      "execution_count": null,
      "outputs": []
    },
    {
      "cell_type": "markdown",
      "source": [
        "Таким образом можно легко поменять значения двум переменным:"
      ],
      "metadata": {
        "id": "ceX__q8rySq1"
      }
    },
    {
      "cell_type": "code",
      "source": [
        "x, y = 100, 300\n",
        "x, y = y, x\n",
        "x, y"
      ],
      "metadata": {
        "id": "wF3RFUaeyJZB"
      },
      "execution_count": null,
      "outputs": []
    },
    {
      "cell_type": "markdown",
      "source": [
        "Без этого \"приема\" пришлось бы вводить новую переменную:"
      ],
      "metadata": {
        "id": "G41CGbmeyXx-"
      }
    },
    {
      "cell_type": "code",
      "source": [
        "print(x, y)"
      ],
      "metadata": {
        "id": "LBssRuW7ydV-"
      },
      "execution_count": null,
      "outputs": []
    },
    {
      "cell_type": "code",
      "source": [
        "z = x\n",
        "x = y\n",
        "y = z"
      ],
      "metadata": {
        "colab": {
          "base_uri": "https://localhost:8080/"
        },
        "id": "D9AVbc60osTI",
        "outputId": "316472e6-0065-4af7-c7c6-62b40158f404"
      },
      "execution_count": null,
      "outputs": [
        {
          "output_type": "stream",
          "name": "stdout",
          "text": [
            "300 100\n",
            "100 300\n"
          ]
        }
      ]
    },
    {
      "cell_type": "code",
      "source": [
        "print(x, y)"
      ],
      "metadata": {
        "id": "HyBPYbWfye19"
      },
      "execution_count": null,
      "outputs": []
    },
    {
      "cell_type": "markdown",
      "source": [
        "## Функция `help`"
      ],
      "metadata": {
        "id": "sRZr04xfyhiI"
      }
    },
    {
      "cell_type": "markdown",
      "source": [
        "Крайне полезная для вас функция - `help`. Она позволяет получить справку по разным объектам. Сейчас нам она полезна для того, чтобы получать документацию по функциям, например для функции `print`:"
      ],
      "metadata": {
        "id": "J3GMRd0QCEga"
      }
    },
    {
      "cell_type": "code",
      "source": [
        "help(print)"
      ],
      "metadata": {
        "colab": {
          "base_uri": "https://localhost:8080/"
        },
        "id": "pkT5k8pXJHnv",
        "outputId": "6127a019-eae7-4864-fc2c-a11a47126e6f"
      },
      "execution_count": null,
      "outputs": [
        {
          "output_type": "stream",
          "name": "stdout",
          "text": [
            "Help on built-in function print in module builtins:\n",
            "\n",
            "print(...)\n",
            "    print(value, ..., sep=' ', end='\\n', file=sys.stdout, flush=False)\n",
            "    \n",
            "    Prints the values to a stream, or to sys.stdout by default.\n",
            "    Optional keyword arguments:\n",
            "    file:  a file-like object (stream); defaults to the current sys.stdout.\n",
            "    sep:   string inserted between values, default a space.\n",
            "    end:   string appended after the last value, default a newline.\n",
            "    flush: whether to forcibly flush the stream.\n",
            "\n"
          ]
        }
      ]
    },
    {
      "cell_type": "code",
      "source": [
        "print(x, y, sep='sep', end='end')"
      ],
      "metadata": {
        "colab": {
          "base_uri": "https://localhost:8080/"
        },
        "id": "iC40fTwtpLIZ",
        "outputId": "289ddf1f-c1a2-421c-8e2f-538929a3f4b7"
      },
      "execution_count": null,
      "outputs": [
        {
          "output_type": "stream",
          "name": "stdout",
          "text": [
            "100\n",
            "300test"
          ]
        }
      ]
    },
    {
      "cell_type": "markdown",
      "metadata": {
        "pycharm": {
          "name": "#%% md\n"
        },
        "id": "3D67e32squBK"
      },
      "source": [
        "## Базовая арифметика"
      ]
    },
    {
      "cell_type": "markdown",
      "source": [
        "Одна из основных задач языка программирования - выполнять арифметические операции над переменными. Само собой, Python тоже позволяет это делать:"
      ],
      "metadata": {
        "id": "Z1zPPgB1SH2E"
      }
    },
    {
      "cell_type": "markdown",
      "source": [
        "`+`, `-`, `*`, `/` - простейшие операции"
      ],
      "metadata": {
        "id": "pzTNDYEsTUUc"
      }
    },
    {
      "cell_type": "code",
      "source": [
        "(1 + 6) / 4 - 2 * 3"
      ],
      "metadata": {
        "colab": {
          "base_uri": "https://localhost:8080/"
        },
        "id": "fy29Z8xKTWcZ",
        "outputId": "c943992f-21a4-4697-a18a-79a730ec0ba6"
      },
      "execution_count": null,
      "outputs": [
        {
          "output_type": "execute_result",
          "data": {
            "text/plain": [
              "-4.25"
            ]
          },
          "metadata": {},
          "execution_count": 80
        }
      ]
    },
    {
      "cell_type": "markdown",
      "source": [
        "`//`, `%` - целочисленное деление и остаток от деления"
      ],
      "metadata": {
        "id": "05o3uWZfTgZL"
      }
    },
    {
      "cell_type": "code",
      "source": [
        "45 // 6, 45 % 6"
      ],
      "metadata": {
        "colab": {
          "base_uri": "https://localhost:8080/"
        },
        "id": "QRCvm8j0TkXr",
        "outputId": "50fb46bd-e35b-43a0-e614-2e9c5f0f38bf"
      },
      "execution_count": null,
      "outputs": [
        {
          "output_type": "execute_result",
          "data": {
            "text/plain": [
              "(7, 3)"
            ]
          },
          "metadata": {},
          "execution_count": 31
        }
      ]
    },
    {
      "cell_type": "markdown",
      "source": [
        "`**` - возведение в степень"
      ],
      "metadata": {
        "id": "U8_S79e6Tpi4"
      }
    },
    {
      "cell_type": "code",
      "execution_count": null,
      "metadata": {
        "pycharm": {
          "name": "#%%\n"
        },
        "colab": {
          "base_uri": "https://localhost:8080/"
        },
        "id": "-SaGO590quBK",
        "outputId": "ed0bb715-f776-4733-807c-05a89c38adfb"
      },
      "outputs": [
        {
          "output_type": "execute_result",
          "data": {
            "text/plain": [
              "1024"
            ]
          },
          "metadata": {},
          "execution_count": 45
        }
      ],
      "source": [
        "2 ** 10"
      ]
    },
    {
      "cell_type": "markdown",
      "source": [
        "Помимо стандартного оператора присваивания\\*, в Python есть вспомогательные операторы, которые перед присваиванием выполняют арифметическую операцию:"
      ],
      "metadata": {
        "id": "YeTm02SWfuLe"
      }
    },
    {
      "cell_type": "code",
      "source": [
        "a = 1900\n",
        "a += 1   # a = a + 1\n",
        "a -= 2   # a = a - 2\n",
        "a *= 3   # a = a * 3\n",
        "a /= 4   # a = a / 4\n",
        "a //= 2  # a = a // 2\n",
        "a **= 2  # a = a ** 2\n",
        "a %= 6   # a = a % 6"
      ],
      "metadata": {
        "id": "sjlmU5i3gCDB"
      },
      "execution_count": null,
      "outputs": []
    },
    {
      "cell_type": "markdown",
      "metadata": {
        "pycharm": {
          "name": "#%% md\n"
        },
        "id": "x5GZRycoquBJ"
      },
      "source": [
        "# Базовые типы данных"
      ]
    },
    {
      "cell_type": "markdown",
      "source": [
        "## `int`\n",
        "\n",
        "`int` - целочисленный тип данных:"
      ],
      "metadata": {
        "id": "wCqikhxsK5SM"
      }
    },
    {
      "cell_type": "code",
      "execution_count": null,
      "metadata": {
        "pycharm": {
          "name": "#%%\n"
        },
        "colab": {
          "base_uri": "https://localhost:8080/"
        },
        "id": "75S-s0zcquBK",
        "outputId": "dc938166-3a27-43f8-8160-9cb656ac35f4"
      },
      "outputs": [
        {
          "output_type": "execute_result",
          "data": {
            "text/plain": [
              "(42, int)"
            ]
          },
          "metadata": {},
          "execution_count": 43
        }
      ],
      "source": [
        "42, type(42)"
      ]
    },
    {
      "cell_type": "markdown",
      "source": [
        "Этот тип данных поддерживает длинную арифметику (подробнее [тут](https://www.codementor.io/@arpitbhayani/how-python-implements-super-long-integers-12icwon5vk)):"
      ],
      "metadata": {
        "id": "ixIAvJFpLa_i"
      }
    },
    {
      "cell_type": "code",
      "source": [
        "2 ** 10000"
      ],
      "metadata": {
        "id": "iJQ89T5qLhF5",
        "colab": {
          "base_uri": "https://localhost:8080/"
        },
        "outputId": "91bd8310-57a6-43b4-f2d5-ff6ffed5a56a"
      },
      "execution_count": null,
      "outputs": [
        {
          "output_type": "execute_result",
          "data": {
            "text/plain": [
              "19950631168807583848837421626835850838234968318861924548520089498529438830221946631919961684036194597899331129423209124271556491349413781117593785932096323957855730046793794526765246551266059895520550086918193311542508608460618104685509074866089624888090489894838009253941633257850621568309473902556912388065225096643874441046759871626985453222868538161694315775629640762836880760732228535091641476183956381458969463899410840960536267821064621427333394036525565649530603142680234969400335934316651459297773279665775606172582031407994198179607378245683762280037302885487251900834464581454650557929601414833921615734588139257095379769119277800826957735674444123062018757836325502728323789270710373802866393031428133241401624195671690574061419654342324638801248856147305207431992259611796250130992860241708340807605932320161268492288496255841312844061536738951487114256315111089745514203313820202931640957596464756010405845841566072044962867016515061920631004186422275908670900574606417856951911456055068251250406007519842261898059237118054444788072906395242548339221982707404473162376760846613033778706039803413197133493654622700563169937455508241780972810983291314403571877524768509857276937926433221599399876886660808368837838027643282775172273657572744784112294389733810861607423253291974813120197604178281965697475898164531258434135959862784130128185406283476649088690521047580882615823961985770122407044330583075869039319604603404973156583208672105913300903752823415539745394397715257455290510212310947321610753474825740775273986348298498340756937955646638621874569499279016572103701364433135817214311791398222983845847334440270964182851005072927748364550578634501100852987812389473928699540834346158807043959118985815145779177143619698728131459483783202081474982171858011389071228250905826817436220577475921417653715687725614904582904992461028630081535583308130101987675856234343538955409175623400844887526162643568648833519463720377293240094456246923254350400678027273837755376406726898636241037491410966718557050759098100246789880178271925953381282421954028302759408448955014676668389697996886241636313376393903373455801407636741877711055384225739499110186468219696581651485130494222369947714763069155468217682876200362777257723781365331611196811280792669481887201298643660768551639860534602297871557517947385246369446923087894265948217008051120322365496288169035739121368338393591756418733850510970271613915439590991598154654417336311656936031122249937969999226781732358023111862644575299135758175008199839236284615249881088960232244362173771618086357015468484058622329792853875623486556440536962622018963571028812361567512543338303270029097668650568557157505516727518899194129711337690149916181315171544007728650573189557450920330185304847113818315407324053319038462084036421763703911550639789000742853672196280903477974533320468368795868580237952218629120080742819551317948157624448298518461509704888027274721574688131594750409732115080498190455803416826949787141316063210686391511681774304792596709376"
            ]
          },
          "metadata": {},
          "execution_count": 52
        }
      ]
    },
    {
      "cell_type": "markdown",
      "metadata": {
        "pycharm": {
          "name": "#%% md\n"
        },
        "id": "uhUpRZlGquBL"
      },
      "source": [
        "Удобная форма записи длинных целых чисел:"
      ]
    },
    {
      "cell_type": "code",
      "execution_count": null,
      "metadata": {
        "pycharm": {
          "name": "#%%\n"
        },
        "colab": {
          "base_uri": "https://localhost:8080/"
        },
        "id": "hyttf-LsquBL",
        "outputId": "77c11f9c-f0c6-488e-b813-7ceb7282cdb6"
      },
      "outputs": [
        {
          "output_type": "execute_result",
          "data": {
            "text/plain": [
              "100000000"
            ]
          },
          "metadata": {},
          "execution_count": 90
        }
      ],
      "source": [
        "100_000_000"
      ]
    },
    {
      "cell_type": "markdown",
      "source": [
        "## `float`"
      ],
      "metadata": {
        "id": "x2xbjSRvL1KH"
      }
    },
    {
      "cell_type": "markdown",
      "source": [
        "`float` - тип данных, хранящий число с плавающей точкой (дробное число). В качестве разделителя используется только точка `.`:\n"
      ],
      "metadata": {
        "id": "FqHuvmGNK68l"
      }
    },
    {
      "cell_type": "code",
      "source": [
        "42.42, type(42.42)"
      ],
      "metadata": {
        "colab": {
          "base_uri": "https://localhost:8080/"
        },
        "id": "Q0RGf6DgLE5q",
        "outputId": "fe8f641f-f599-478d-ae2c-5be1536f0e77"
      },
      "execution_count": null,
      "outputs": [
        {
          "output_type": "execute_result",
          "data": {
            "text/plain": [
              "(42.42, float)"
            ]
          },
          "metadata": {},
          "execution_count": 38
        }
      ]
    },
    {
      "cell_type": "markdown",
      "source": [
        "Имеется удобная форма записи - экспоненциальная:"
      ],
      "metadata": {
        "id": "Adx0EVDgzwlk"
      }
    },
    {
      "cell_type": "code",
      "source": [
        "1.5e-2"
      ],
      "metadata": {
        "colab": {
          "base_uri": "https://localhost:8080/"
        },
        "outputId": "c40096a5-fe52-4c36-c714-a04ca1a00590",
        "id": "sOEz6gXHzvaN"
      },
      "execution_count": null,
      "outputs": [
        {
          "output_type": "execute_result",
          "data": {
            "text/plain": [
              "0.015"
            ]
          },
          "metadata": {},
          "execution_count": 46
        }
      ]
    },
    {
      "cell_type": "markdown",
      "metadata": {
        "pycharm": {
          "name": "#%% md\n"
        },
        "id": "zjWOgOzZquBK"
      },
      "source": [
        "Также в Python имеются специальные значения для бесконечностей и значения \"not a number\" (`nan`):"
      ]
    },
    {
      "cell_type": "code",
      "execution_count": null,
      "metadata": {
        "pycharm": {
          "name": "#%%\n"
        },
        "colab": {
          "base_uri": "https://localhost:8080/"
        },
        "id": "JSvnW2jEquBK",
        "outputId": "f9450627-15b8-4526-ba3e-82b8d68c534d"
      },
      "outputs": [
        {
          "output_type": "execute_result",
          "data": {
            "text/plain": [
              "(inf, inf, inf)"
            ]
          },
          "metadata": {},
          "execution_count": 86
        }
      ],
      "source": [
        "float('inf'), 2 * float('inf'), float('inf') + 1000000"
      ]
    },
    {
      "cell_type": "code",
      "source": [
        "float('-inf'), 2 * float('-inf'), float('-inf') + 1000000"
      ],
      "metadata": {
        "colab": {
          "base_uri": "https://localhost:8080/"
        },
        "id": "fDQW1BfjUk-u",
        "outputId": "602fea85-4b90-437b-9900-b8031bf902fe"
      },
      "execution_count": null,
      "outputs": [
        {
          "output_type": "execute_result",
          "data": {
            "text/plain": [
              "(-inf, -inf, -inf)"
            ]
          },
          "metadata": {},
          "execution_count": 87
        }
      ]
    },
    {
      "cell_type": "code",
      "source": [
        "float('Inf') - float('Inf')"
      ],
      "metadata": {
        "colab": {
          "base_uri": "https://localhost:8080/"
        },
        "id": "5HWxiIloUmei",
        "outputId": "b28bd7fc-5088-452c-be1b-e895d83b6e47"
      },
      "execution_count": null,
      "outputs": [
        {
          "output_type": "execute_result",
          "data": {
            "text/plain": [
              "nan"
            ]
          },
          "metadata": {},
          "execution_count": 88
        }
      ]
    },
    {
      "cell_type": "markdown",
      "source": [
        "Тип `float` основан на `double` из C, поэтому поддерживает значения только в определенном диапазоне и с определенной точностью:"
      ],
      "metadata": {
        "id": "7O-UW7OmL4wR"
      }
    },
    {
      "cell_type": "code",
      "source": [
        "from sys import float_info\n",
        "\n",
        "precision = float_info.min * float_info.epsilon\n",
        "max_value = float_info.max"
      ],
      "metadata": {
        "id": "7Z8BRnThMnHf"
      },
      "execution_count": null,
      "outputs": []
    },
    {
      "cell_type": "code",
      "source": [
        "print(max_value, max_value * 2)"
      ],
      "metadata": {
        "colab": {
          "base_uri": "https://localhost:8080/"
        },
        "id": "1x58XjL8MDbw",
        "outputId": "c9117273-7723-4ae4-be89-37b8fdcdc756"
      },
      "execution_count": null,
      "outputs": [
        {
          "output_type": "stream",
          "name": "stdout",
          "text": [
            "1.7976931348623157e+308 inf\n"
          ]
        }
      ]
    },
    {
      "cell_type": "code",
      "source": [
        "print(precision, precision / 2)"
      ],
      "metadata": {
        "colab": {
          "base_uri": "https://localhost:8080/"
        },
        "id": "mM0dQIuEMTtU",
        "outputId": "8e6afa5c-4ace-4830-9b13-cf4f9e9f16a6"
      },
      "execution_count": null,
      "outputs": [
        {
          "output_type": "stream",
          "name": "stdout",
          "text": [
            "5e-324 0.0\n"
          ]
        }
      ]
    },
    {
      "cell_type": "markdown",
      "source": [
        "Для округления чисел с плавающей точкой в Python имеется функция `round`, работающая по правилу [\"округления банкира\"](https://ru.wikipedia.org/wiki/%D0%9E%D0%BA%D1%80%D1%83%D0%B3%D0%BB%D0%B5%D0%BD%D0%B8%D0%B5#:~:text=banker's%20rounding%20%E2%80%94%20%C2%AB%D0%BE%D0%BA%D1%80%D1%83%D0%B3%D0%BB%D0%B5%D0%BD%D0%B8%D0%B5%20%D0%B1%D0%B0%D0%BD%D0%BA%D0%B8%D1%80%D0%B0%C2%BB,(%D0%BC%D0%BE%D0%B6%D0%B5%D1%82%20%D0%B8%D1%81%D0%BF%D0%BE%D0%BB%D1%8C%D0%B7%D0%BE%D0%B2%D0%B0%D1%82%D1%8C%D1%81%D1%8F%20%D0%B2%20%D1%81%D1%82%D0%B0%D1%82%D0%B8%D1%81%D1%82%D0%B8%D0%BA%D0%B5)) (до ближайшего четного числа):"
      ],
      "metadata": {
        "id": "jdpYshXyB722"
      }
    },
    {
      "cell_type": "code",
      "source": [
        "round(0.3)"
      ],
      "metadata": {
        "colab": {
          "base_uri": "https://localhost:8080/"
        },
        "id": "h66lj6_TCBo7",
        "outputId": "009d2b0e-1c27-4f57-867c-412a1860da5e"
      },
      "execution_count": null,
      "outputs": [
        {
          "output_type": "execute_result",
          "data": {
            "text/plain": [
              "0"
            ]
          },
          "metadata": {},
          "execution_count": 5
        }
      ]
    },
    {
      "cell_type": "code",
      "source": [
        "round(0.5)"
      ],
      "metadata": {
        "colab": {
          "base_uri": "https://localhost:8080/"
        },
        "id": "U6aJIwzBCgqS",
        "outputId": "39a68970-d068-4294-9e23-9636c8313d8c"
      },
      "execution_count": null,
      "outputs": [
        {
          "output_type": "execute_result",
          "data": {
            "text/plain": [
              "0"
            ]
          },
          "metadata": {},
          "execution_count": 6
        }
      ]
    },
    {
      "cell_type": "code",
      "source": [
        "round(1.5)"
      ],
      "metadata": {
        "colab": {
          "base_uri": "https://localhost:8080/"
        },
        "id": "VIc6pvZ5Cica",
        "outputId": "48c1cc3b-7cea-4cdd-b6df-67a2a632ad57"
      },
      "execution_count": null,
      "outputs": [
        {
          "output_type": "execute_result",
          "data": {
            "text/plain": [
              "2"
            ]
          },
          "metadata": {},
          "execution_count": 7
        }
      ]
    },
    {
      "cell_type": "markdown",
      "source": [
        "Дополнительно можно указать до какого знака стоит округлять:"
      ],
      "metadata": {
        "id": "Rs8ZgYYaC7Ac"
      }
    },
    {
      "cell_type": "code",
      "source": [
        "round(3.1415, 1)"
      ],
      "metadata": {
        "colab": {
          "base_uri": "https://localhost:8080/"
        },
        "id": "drjsrHoZDAO0",
        "outputId": "09b48922-0bdc-4c06-a761-837b8b3c83f6"
      },
      "execution_count": null,
      "outputs": [
        {
          "output_type": "execute_result",
          "data": {
            "text/plain": [
              "3.1"
            ]
          },
          "metadata": {},
          "execution_count": 54
        }
      ]
    },
    {
      "cell_type": "markdown",
      "source": [
        "### Арифметика с плавающей точкой"
      ],
      "metadata": {
        "id": "ap_ZCw8e_xwH"
      }
    },
    {
      "cell_type": "markdown",
      "source": [
        "Т.к. в оперативной памяти для записи дробного числа отведено фиксированное кол-во бит (ячеек памяти), то часто мы не можем абсолютно точно записать число и абсолютно точно проводить операции над ними, часто возникает небольшая погрешность:"
      ],
      "metadata": {
        "id": "MW95N-300wjY"
      }
    },
    {
      "cell_type": "code",
      "source": [
        "0.1 + 0.2"
      ],
      "metadata": {
        "colab": {
          "base_uri": "https://localhost:8080/"
        },
        "id": "ux6nVNJhfkSp",
        "outputId": "91df546d-2d5e-4191-978d-e689f272ae7f"
      },
      "execution_count": null,
      "outputs": [
        {
          "output_type": "execute_result",
          "data": {
            "text/plain": [
              "0.30000000000000004"
            ]
          },
          "metadata": {},
          "execution_count": 2
        }
      ]
    },
    {
      "cell_type": "markdown",
      "source": [
        "Этого пугаться не стоит, такое поведение свойственно всем языкам программировани."
      ],
      "metadata": {
        "id": "dTgsrulA1KIm"
      }
    },
    {
      "cell_type": "markdown",
      "source": [
        "Подробнее про числа с плавающей точкой - https://habr.com/ru/post/112953/"
      ],
      "metadata": {
        "id": "CyrToMtw_nXu"
      }
    },
    {
      "cell_type": "markdown",
      "source": [
        "## `complex`"
      ],
      "metadata": {
        "id": "u1MBAEA3OGrk"
      }
    },
    {
      "cell_type": "markdown",
      "source": [
        "`complex` - тип для работы с комплексными числами. Мнимая часть описывается с помощью символа `j` (вместо `i` в математике): "
      ],
      "metadata": {
        "id": "ZObdoCD4K9Aw"
      }
    },
    {
      "cell_type": "code",
      "source": [
        "2 + 3j, type(2 + 3j)"
      ],
      "metadata": {
        "colab": {
          "base_uri": "https://localhost:8080/"
        },
        "id": "YqvJgBH-LGoL",
        "outputId": "a40795c9-6eb9-4b00-eac7-3bc23b21a377"
      },
      "execution_count": null,
      "outputs": [
        {
          "output_type": "execute_result",
          "data": {
            "text/plain": [
              "((2+3j), complex)"
            ]
          },
          "metadata": {},
          "execution_count": 74
        }
      ]
    },
    {
      "cell_type": "code",
      "source": [
        "(2 + 3j) * (2 + 3j)"
      ],
      "metadata": {
        "colab": {
          "base_uri": "https://localhost:8080/"
        },
        "id": "47CwQ_Z8fUGY",
        "outputId": "300a30fc-4496-4901-c9a3-ff9b15bc8489"
      },
      "execution_count": null,
      "outputs": [
        {
          "output_type": "execute_result",
          "data": {
            "text/plain": [
              "(-5+12j)"
            ]
          },
          "metadata": {},
          "execution_count": 3
        }
      ]
    },
    {
      "cell_type": "markdown",
      "source": [
        "## `bool`"
      ],
      "metadata": {
        "id": "4-cFglQgOhqe"
      }
    },
    {
      "cell_type": "markdown",
      "source": [
        "`bool` - логический тип данных. Может принимать лишь два значения - `True` и `False` (именно с заглавной буквы):"
      ],
      "metadata": {
        "id": "UZgFY0bNK-fz"
      }
    },
    {
      "cell_type": "code",
      "source": [
        "True, type(True)"
      ],
      "metadata": {
        "colab": {
          "base_uri": "https://localhost:8080/"
        },
        "id": "6sQYlsZdLHxn",
        "outputId": "66f32eca-f043-4ee6-ee2c-70faa4a62e1b"
      },
      "execution_count": null,
      "outputs": [
        {
          "output_type": "execute_result",
          "data": {
            "text/plain": [
              "(True, bool)"
            ]
          },
          "metadata": {},
          "execution_count": 55
        }
      ]
    },
    {
      "cell_type": "markdown",
      "source": [
        " Тип `bool` является подтипом `int`, поэтому между ними возможны операции сравнения без явного приведения типов:"
      ],
      "metadata": {
        "id": "HXyR22m7O1I2"
      }
    },
    {
      "cell_type": "code",
      "source": [
        "True == 1"
      ],
      "metadata": {
        "colab": {
          "base_uri": "https://localhost:8080/"
        },
        "id": "0UVhCf3CO5NA",
        "outputId": "2a2e891b-2cd5-4377-a56c-56c3a5cc0e0f"
      },
      "execution_count": null,
      "outputs": [
        {
          "output_type": "execute_result",
          "data": {
            "text/plain": [
              "True"
            ]
          },
          "metadata": {},
          "execution_count": 76
        }
      ]
    },
    {
      "cell_type": "code",
      "source": [
        "True > 2"
      ],
      "metadata": {
        "colab": {
          "base_uri": "https://localhost:8080/"
        },
        "id": "sjTom5QYPUY3",
        "outputId": "88126341-67c5-4fd1-9003-76a0adfc45fd"
      },
      "execution_count": null,
      "outputs": [
        {
          "output_type": "execute_result",
          "data": {
            "text/plain": [
              "False"
            ]
          },
          "metadata": {},
          "execution_count": 78
        }
      ]
    },
    {
      "cell_type": "markdown",
      "source": [
        "## str"
      ],
      "metadata": {
        "id": "Nn2y5XJnPbUc"
      }
    },
    {
      "cell_type": "markdown",
      "source": [
        "`str` - строковый тип данных, т.е. может хранить в себе символьные строки произвольной длины:"
      ],
      "metadata": {
        "id": "v4Tyy8VVLAGh"
      }
    },
    {
      "cell_type": "code",
      "source": [
        "\"abc\", type(\"abc\")"
      ],
      "metadata": {
        "colab": {
          "base_uri": "https://localhost:8080/"
        },
        "id": "1Ls-i1euLJrN",
        "outputId": "f9713553-6ea3-41b8-96bf-20d2958b7b0e"
      },
      "execution_count": null,
      "outputs": [
        {
          "output_type": "execute_result",
          "data": {
            "text/plain": [
              "('abc', str)"
            ]
          },
          "metadata": {},
          "execution_count": 93
        }
      ]
    },
    {
      "cell_type": "markdown",
      "source": [
        "Выделяется двойными или одинарными кавычками (открывающая и закрывающая должны быть одинаковы!):"
      ],
      "metadata": {
        "id": "fzNDbBtxWIpu"
      }
    },
    {
      "cell_type": "code",
      "source": [
        "'abc'"
      ],
      "metadata": {
        "colab": {
          "base_uri": "https://localhost:8080/",
          "height": 34
        },
        "id": "dYXjeidaWIOo",
        "outputId": "014f3d98-d634-4eae-a9ac-e5d24afc7e2a"
      },
      "execution_count": null,
      "outputs": [
        {
          "output_type": "execute_result",
          "data": {
            "text/plain": [
              "'abc'"
            ],
            "application/vnd.google.colaboratory.intrinsic+json": {
              "type": "string"
            }
          },
          "metadata": {},
          "execution_count": 56
        }
      ]
    },
    {
      "cell_type": "code",
      "source": [
        "'abc\""
      ],
      "metadata": {
        "colab": {
          "base_uri": "https://localhost:8080/",
          "height": 133
        },
        "id": "-AeA8_U8WLZl",
        "outputId": "058f97f7-b66e-4cc5-cff6-b07a7ddcabe6"
      },
      "execution_count": null,
      "outputs": [
        {
          "output_type": "error",
          "ename": "SyntaxError",
          "evalue": "ignored",
          "traceback": [
            "\u001b[0;36m  File \u001b[0;32m\"<ipython-input-63-2e69c44e7191>\"\u001b[0;36m, line \u001b[0;32m1\u001b[0m\n\u001b[0;31m    'abc\"\u001b[0m\n\u001b[0m         ^\u001b[0m\n\u001b[0;31mSyntaxError\u001b[0m\u001b[0;31m:\u001b[0m EOL while scanning string literal\n"
          ]
        }
      ]
    },
    {
      "cell_type": "markdown",
      "source": [
        "В Python также возможны многострочные строки (multiline string):"
      ],
      "metadata": {
        "id": "5gtL4eHJV7Mc"
      }
    },
    {
      "cell_type": "code",
      "source": [
        "string = \"\"\"и \n",
        "я \n",
        "тоже\n",
        "строка\"\"\"\n",
        "print(string)"
      ],
      "metadata": {
        "id": "0ZbWqEXOV_2R"
      },
      "execution_count": null,
      "outputs": []
    },
    {
      "cell_type": "markdown",
      "source": [
        "Кроме того, в Python (как и во многих других ЯП) имеются комментарии - строки кода, которые игнорируются при запуске программы. Однострочные комменатарии начинаются с `#`:"
      ],
      "metadata": {
        "id": "j_1x2HohWRhW"
      }
    },
    {
      "cell_type": "code",
      "source": [
        "# Я однострочный комментарий"
      ],
      "metadata": {
        "id": "4vxTAlHEWmH-"
      },
      "execution_count": null,
      "outputs": []
    },
    {
      "cell_type": "code",
      "source": [
        "print('a')\n",
        "\"\"\"\n",
        "print('a')\n",
        "print('a')\n",
        "print('a')\n",
        "\"\"\"\n",
        "print('a')"
      ],
      "metadata": {
        "colab": {
          "base_uri": "https://localhost:8080/"
        },
        "id": "q0_WM97DxW3r",
        "outputId": "cded24f1-4282-492f-81f1-24c1cb84bc33"
      },
      "execution_count": null,
      "outputs": [
        {
          "output_type": "stream",
          "name": "stdout",
          "text": [
            "a\n",
            "a\n"
          ]
        }
      ]
    },
    {
      "cell_type": "markdown",
      "source": [
        "Строки можно складывать, строку можно домножать на целое число, можно проверять вхождение подстроки в строку:"
      ],
      "metadata": {
        "id": "MqI8MTWdW7BK"
      }
    },
    {
      "cell_type": "code",
      "source": [
        "s1 = \"very_big_string\"\n",
        "s2 = 'string'"
      ],
      "metadata": {
        "id": "4z0UnYB9W-2o"
      },
      "execution_count": null,
      "outputs": []
    },
    {
      "cell_type": "code",
      "source": [
        "s1 + s2"
      ],
      "metadata": {
        "colab": {
          "base_uri": "https://localhost:8080/",
          "height": 34
        },
        "id": "miCTj92iXFnL",
        "outputId": "368ea39a-c373-49b6-bdb8-a97fa6e75e1e"
      },
      "execution_count": null,
      "outputs": [
        {
          "output_type": "execute_result",
          "data": {
            "text/plain": [
              "'very_big_stringstring'"
            ],
            "application/vnd.google.colaboratory.intrinsic+json": {
              "type": "string"
            }
          },
          "metadata": {},
          "execution_count": 66
        }
      ]
    },
    {
      "cell_type": "code",
      "source": [
        "s2 * 4"
      ],
      "metadata": {
        "colab": {
          "base_uri": "https://localhost:8080/",
          "height": 34
        },
        "id": "J22ccffPXHUs",
        "outputId": "239ab621-1cc0-42cb-b6a3-2d7c3fa7927f"
      },
      "execution_count": null,
      "outputs": [
        {
          "output_type": "execute_result",
          "data": {
            "text/plain": [
              "'stringstringstringstring'"
            ],
            "application/vnd.google.colaboratory.intrinsic+json": {
              "type": "string"
            }
          },
          "metadata": {},
          "execution_count": 69
        }
      ]
    },
    {
      "cell_type": "code",
      "source": [
        "s2 in s1"
      ],
      "metadata": {
        "id": "Lg6MNei92Tc8"
      },
      "execution_count": null,
      "outputs": []
    },
    {
      "cell_type": "markdown",
      "source": [
        "Оператор `in` мы увидем и в других более сложных типах данных."
      ],
      "metadata": {
        "id": "Xrmxod3O3Ibq"
      }
    },
    {
      "cell_type": "markdown",
      "source": [
        "Несмотря на то, что по-умолчанию операции между разными типами данных запрещены, некоторые все-же возможны:"
      ],
      "metadata": {
        "id": "KXWRJhI_3Wxl"
      }
    },
    {
      "cell_type": "code",
      "source": [
        "'abc' * 4"
      ],
      "metadata": {
        "colab": {
          "base_uri": "https://localhost:8080/",
          "height": 34
        },
        "id": "469OsKtx3ZX9",
        "outputId": "9f838a31-3b7d-4b08-f9da-6f83054ac1b5"
      },
      "execution_count": null,
      "outputs": [
        {
          "output_type": "execute_result",
          "data": {
            "text/plain": [
              "'abcabcabcabc'"
            ],
            "application/vnd.google.colaboratory.intrinsic+json": {
              "type": "string"
            }
          },
          "metadata": {},
          "execution_count": 1
        }
      ]
    },
    {
      "cell_type": "markdown",
      "source": [
        "У строк в Python имеется огромное количество полезных методов (функций), которые вы найдете полезными в ходе работы. Подробнее мы остановимся на них позднее, а пока можете ознакомиться с ними в статье [по ссылке](https://pythonworld.ru/tipy-dannyx-v-python/stroki-funkcii-i-metody-strok.html)."
      ],
      "metadata": {
        "id": "mp8ig0t_XOws"
      }
    },
    {
      "cell_type": "markdown",
      "source": [
        "Сейчас же остановимся на одном из них - метод `split`. Он позволяет разбить строку по подстроке. Проще всего это понять на примере:"
      ],
      "metadata": {
        "id": "oYRtCn2gFS3y"
      }
    },
    {
      "cell_type": "code",
      "source": [
        "string = \"one two three two three four\"\n",
        "substring = \"two\"\n",
        "\n",
        "print(string.split(substring))"
      ],
      "metadata": {
        "colab": {
          "base_uri": "https://localhost:8080/"
        },
        "id": "78O4EHt6FdkQ",
        "outputId": "e471b69a-c25d-4ee2-b2b3-f16f739667ac"
      },
      "execution_count": null,
      "outputs": [
        {
          "output_type": "stream",
          "name": "stdout",
          "text": [
            "['one ', ' three ', ' three four']\n"
          ]
        }
      ]
    },
    {
      "cell_type": "code",
      "source": [
        "a = \"1 2 3\"\n",
        "a.split()"
      ],
      "metadata": {
        "colab": {
          "base_uri": "https://localhost:8080/"
        },
        "id": "wAn0NDR-yVNx",
        "outputId": "8b6100ec-b22f-4de8-d7f2-5c5ef496989d"
      },
      "execution_count": null,
      "outputs": [
        {
          "output_type": "execute_result",
          "data": {
            "text/plain": [
              "['1', '2', '3']"
            ]
          },
          "metadata": {},
          "execution_count": 71
        }
      ]
    },
    {
      "cell_type": "markdown",
      "source": [
        "**Замечание:** методы вызываются для переменных следующим образом - `variable.method(arguments)`."
      ],
      "metadata": {
        "id": "68mj2e0jFtId"
      }
    },
    {
      "cell_type": "markdown",
      "source": [
        "На выходе получаем список строк, которые были разделены между собой подстрокой `substring`."
      ],
      "metadata": {
        "id": "Wqq4H996F8lh"
      }
    },
    {
      "cell_type": "markdown",
      "source": [
        "К отдельным символам строки можно получить доступ по их индексу (порядковый номер). Как и во всех взрослых языках програмирования, Python использует 0-индексацию (самый первый элемент имеет индекс 0):"
      ],
      "metadata": {
        "id": "5W5_da0-IRuP"
      }
    },
    {
      "cell_type": "code",
      "source": [
        "string = \"hello world!\"\n",
        "print(string[0], string[1], string[5])"
      ],
      "metadata": {
        "colab": {
          "base_uri": "https://localhost:8080/"
        },
        "id": "zbjKEd7WIiZo",
        "outputId": "0d804277-ea28-441d-9d0e-c8973045bf60"
      },
      "execution_count": null,
      "outputs": [
        {
          "output_type": "stream",
          "name": "stdout",
          "text": [
            "h\n",
            "e\n",
            " \n"
          ]
        }
      ]
    },
    {
      "cell_type": "markdown",
      "source": [
        "Кроме того, Python поддерживает отрицательную индексацию, с помощью которой удобно брать элементы с конца строки:"
      ],
      "metadata": {
        "id": "Te3UbCmEI1Up"
      }
    },
    {
      "cell_type": "code",
      "source": [
        "print(string[-2])"
      ],
      "metadata": {
        "colab": {
          "base_uri": "https://localhost:8080/"
        },
        "id": "pRU071eKJq8N",
        "outputId": "1cccf418-7ec3-4712-832d-2997490a9917"
      },
      "execution_count": null,
      "outputs": [
        {
          "output_type": "stream",
          "name": "stdout",
          "text": [
            "d\n"
          ]
        }
      ]
    },
    {
      "cell_type": "markdown",
      "source": [
        "### Срезы"
      ],
      "metadata": {
        "id": "gW6jadYjLNLV"
      }
    },
    {
      "cell_type": "markdown",
      "source": [
        "В Python имеется удобный способ выбирать диапазон элементов из строк, списков и кортежей. Он называется срез (slicing) и выглядит следующим образом:\n",
        "\n",
        "```python\n",
        "variable[start:stop:step]\n",
        "```\n",
        "где `start` - индекс начала выборки (включается), `stop` - индекс завершения выборки (исключается), `step` - шаг выборки. Если не указывать значения, то берутся значения по умолчанию: `start=0`, `end=len(...)`, `step=1`.\n",
        "\n",
        "Рассмотрим на примере:"
      ],
      "metadata": {
        "id": "woo413yILQic"
      }
    },
    {
      "cell_type": "code",
      "source": [
        "string = \"abcdefgh\"\n",
        "print(string[1:7:2])"
      ],
      "metadata": {
        "colab": {
          "base_uri": "https://localhost:8080/"
        },
        "id": "EVy5QxXBLrNk",
        "outputId": "99bef3e5-b0e4-4be6-d3a5-ad08ac58c9e1"
      },
      "execution_count": null,
      "outputs": [
        {
          "output_type": "stream",
          "name": "stdout",
          "text": [
            "bdf\n"
          ]
        }
      ]
    },
    {
      "cell_type": "markdown",
      "source": [
        "В итоге мы взяли все элементы, начиная с индекса `1` (b) до индекса `7` (h, исключая) с шагом 2.\n",
        "\n",
        "Аналогично срезы работают и для списков и кортежей:"
      ],
      "metadata": {
        "id": "TczNvOmPMGzj"
      }
    },
    {
      "cell_type": "code",
      "source": [
        "lst = [1, 2, 3, 4, 5.0]\n",
        "\n",
        "print(lst[::2])"
      ],
      "metadata": {
        "colab": {
          "base_uri": "https://localhost:8080/"
        },
        "id": "i0zaf-PaMWRN",
        "outputId": "403d31b6-da83-408b-b241-14fe4b726021"
      },
      "execution_count": null,
      "outputs": [
        {
          "output_type": "stream",
          "name": "stdout",
          "text": [
            "[1, 3, 5.0]\n"
          ]
        }
      ]
    },
    {
      "cell_type": "markdown",
      "source": [
        "Полученный срез часто удобно сохранять в отдельную переменную:"
      ],
      "metadata": {
        "id": "5Q7h6bzxOyy-"
      }
    },
    {
      "cell_type": "code",
      "source": [
        "sub_lst = lst[::3]\n",
        "print(sub_lst)"
      ],
      "metadata": {
        "colab": {
          "base_uri": "https://localhost:8080/"
        },
        "id": "bg10rXScOxl7",
        "outputId": "313c5443-9cb3-4f0a-d144-945297512011"
      },
      "execution_count": null,
      "outputs": [
        {
          "output_type": "stream",
          "name": "stdout",
          "text": [
            "[1, 4]\n"
          ]
        }
      ]
    },
    {
      "cell_type": "markdown",
      "source": [
        "Заметим, что шаг необязательно должен быть положительным:"
      ],
      "metadata": {
        "id": "d2EkuA3PPCjz"
      }
    },
    {
      "cell_type": "code",
      "source": [
        "print(lst[::-1])"
      ],
      "metadata": {
        "colab": {
          "base_uri": "https://localhost:8080/"
        },
        "id": "8ki5Sd92PB0l",
        "outputId": "c763fb4c-9291-4812-f300-f3b72581a40b"
      },
      "execution_count": null,
      "outputs": [
        {
          "output_type": "stream",
          "name": "stdout",
          "text": [
            "[5.0, 4, 3, 2, 1]\n"
          ]
        }
      ]
    },
    {
      "cell_type": "markdown",
      "source": [
        "## NoneType"
      ],
      "metadata": {
        "id": "ZGiEswGhQeGL"
      }
    },
    {
      "cell_type": "markdown",
      "source": [
        "`NoneType` - специальный тип данных для объекта `None`:"
      ],
      "metadata": {
        "id": "wT1hHabmLBYg"
      }
    },
    {
      "cell_type": "code",
      "source": [
        "None, type(None)"
      ],
      "metadata": {
        "colab": {
          "base_uri": "https://localhost:8080/"
        },
        "id": "476Z_U2FLLX7",
        "outputId": "71b42acf-d51c-44b3-c9dd-00eb418282ef"
      },
      "execution_count": null,
      "outputs": [
        {
          "output_type": "execute_result",
          "data": {
            "text/plain": [
              "(None, NoneType)"
            ]
          },
          "metadata": {},
          "execution_count": 42
        }
      ]
    },
    {
      "cell_type": "markdown",
      "source": [
        "### Что такое `None`?"
      ],
      "metadata": {
        "id": "7E0bx3lwRZYE"
      }
    },
    {
      "cell_type": "markdown",
      "source": [
        "`None` - специальное значение переменной, означающее \"ничего\" или \"отсутствие значения\". Является аналогом `null` из других языков программирования.\n",
        "\n",
        "Существует много случаев, когда следует использовать None.\n",
        "\n",
        "Часто вы хотите выполнить действие, которое может работать либо завершиться неудачно. Используя `None`, вы можете проверить успех действия.\n",
        "\n",
        "**Пример:** в своей программе вы хотите подключиться к базе данных с помощью библиотеки и хотите проверить, создалась ли ваша база данных, вы можете осуществить эту проверку, сравнив переменную базы данных с None. Примерно так:\n",
        "\n",
        "```\n",
        "database = MyDatabase(db_host, db_user, db_password, db_database)\n",
        "\n",
        "if database is None:\n",
        "    print('Пусто')\n",
        "```"
      ],
      "metadata": {
        "id": "bQI8iZ7oRmap"
      }
    },
    {
      "cell_type": "markdown",
      "source": [
        "## Приведение базовых типов"
      ],
      "metadata": {
        "id": "DzNfL3WN5fG5"
      }
    },
    {
      "cell_type": "markdown",
      "source": [
        "Базовые типы данных часто можно преобразовывать из одного в другой следующим образом:"
      ],
      "metadata": {
        "id": "N2bmfcZK5jEP"
      }
    },
    {
      "cell_type": "code",
      "source": [
        "int('123')"
      ],
      "metadata": {
        "colab": {
          "base_uri": "https://localhost:8080/"
        },
        "id": "y77NBqp55ooB",
        "outputId": "985c8832-e9ab-46a7-c0db-fc226036609f"
      },
      "execution_count": null,
      "outputs": [
        {
          "output_type": "execute_result",
          "data": {
            "text/plain": [
              "123"
            ]
          },
          "metadata": {},
          "execution_count": 14
        }
      ]
    },
    {
      "cell_type": "code",
      "source": [
        "str(345)"
      ],
      "metadata": {
        "colab": {
          "base_uri": "https://localhost:8080/",
          "height": 34
        },
        "id": "8N8qX3Lm5uz3",
        "outputId": "176db989-ba09-4058-e6f6-c64f1a98f555"
      },
      "execution_count": null,
      "outputs": [
        {
          "output_type": "execute_result",
          "data": {
            "text/plain": [
              "'345'"
            ],
            "application/vnd.google.colaboratory.intrinsic+json": {
              "type": "string"
            }
          },
          "metadata": {},
          "execution_count": 15
        }
      ]
    },
    {
      "cell_type": "code",
      "source": [
        "float(5)"
      ],
      "metadata": {
        "colab": {
          "base_uri": "https://localhost:8080/"
        },
        "id": "bFBKKdcb7CM4",
        "outputId": "99d53db5-2832-4916-edbb-04d1c22db03e"
      },
      "execution_count": null,
      "outputs": [
        {
          "output_type": "execute_result",
          "data": {
            "text/plain": [
              "5.0"
            ]
          },
          "metadata": {},
          "execution_count": 12
        }
      ]
    },
    {
      "cell_type": "code",
      "source": [
        "int(234.5)"
      ],
      "metadata": {
        "colab": {
          "base_uri": "https://localhost:8080/"
        },
        "id": "PU5cD0tm7Dh3",
        "outputId": "ded1e56c-1a55-49af-98be-0b0d9def5074"
      },
      "execution_count": null,
      "outputs": [
        {
          "output_type": "execute_result",
          "data": {
            "text/plain": [
              "234"
            ]
          },
          "metadata": {},
          "execution_count": 77
        }
      ]
    },
    {
      "cell_type": "markdown",
      "source": [
        "**Замечание:** при преобразовании переменной из `float` в `int` дробная часть отбрасывается:"
      ],
      "metadata": {
        "id": "6sxqOLyrDNz1"
      }
    },
    {
      "cell_type": "code",
      "source": [
        "int(3.14)"
      ],
      "metadata": {
        "colab": {
          "base_uri": "https://localhost:8080/"
        },
        "id": "hsDTyrL5DUof",
        "outputId": "1de3ed8a-4ce6-4926-a9b4-3a6253840685"
      },
      "execution_count": null,
      "outputs": [
        {
          "output_type": "execute_result",
          "data": {
            "text/plain": [
              "3"
            ]
          },
          "metadata": {},
          "execution_count": 78
        }
      ]
    },
    {
      "cell_type": "code",
      "source": [
        "int(-3.14)"
      ],
      "metadata": {
        "colab": {
          "base_uri": "https://localhost:8080/"
        },
        "id": "rHPWUjrcDZma",
        "outputId": "964c7dd0-58af-4b8c-c9d7-598ed74a511a"
      },
      "execution_count": null,
      "outputs": [
        {
          "output_type": "execute_result",
          "data": {
            "text/plain": [
              "-3"
            ]
          },
          "metadata": {},
          "execution_count": 79
        }
      ]
    },
    {
      "cell_type": "code",
      "source": [
        "int(2.73)"
      ],
      "metadata": {
        "colab": {
          "base_uri": "https://localhost:8080/"
        },
        "id": "H345CqvQDXZ8",
        "outputId": "45dcb0de-7050-4cab-c6b0-8611d2b16598"
      },
      "execution_count": null,
      "outputs": [
        {
          "output_type": "execute_result",
          "data": {
            "text/plain": [
              "2"
            ]
          },
          "metadata": {},
          "execution_count": 80
        }
      ]
    },
    {
      "cell_type": "markdown",
      "source": [
        "Но преобразование не всегда возможно:"
      ],
      "metadata": {
        "id": "H9RyTfaL8M_y"
      }
    },
    {
      "cell_type": "code",
      "source": [
        "float('12.a')"
      ],
      "metadata": {
        "colab": {
          "base_uri": "https://localhost:8080/",
          "height": 168
        },
        "id": "K8gpN4pT7FSk",
        "outputId": "9f696b6c-fe8c-40e1-cda3-50c4762f21ad"
      },
      "execution_count": null,
      "outputs": [
        {
          "output_type": "error",
          "ename": "ValueError",
          "evalue": "ignored",
          "traceback": [
            "\u001b[0;31m---------------------------------------------------------------------------\u001b[0m",
            "\u001b[0;31mValueError\u001b[0m                                Traceback (most recent call last)",
            "\u001b[0;32m<ipython-input-82-9e100896e350>\u001b[0m in \u001b[0;36m<module>\u001b[0;34m\u001b[0m\n\u001b[0;32m----> 1\u001b[0;31m \u001b[0mfloat\u001b[0m\u001b[0;34m(\u001b[0m\u001b[0;34m'12.a'\u001b[0m\u001b[0;34m)\u001b[0m\u001b[0;34m\u001b[0m\u001b[0;34m\u001b[0m\u001b[0m\n\u001b[0m",
            "\u001b[0;31mValueError\u001b[0m: could not convert string to float: '12.a'"
          ]
        }
      ]
    },
    {
      "cell_type": "markdown",
      "source": [
        "### Приведение к bool"
      ],
      "metadata": {
        "id": "E9Kacduc8xw2"
      }
    },
    {
      "cell_type": "markdown",
      "source": [
        "Для `int` и `float`: `0` и `0.0` переводятся в `False`, все остальное - в `True`:"
      ],
      "metadata": {
        "id": "7E-q1jYH9AMl"
      }
    },
    {
      "cell_type": "code",
      "source": [
        "bool(0), bool(0.0)"
      ],
      "metadata": {
        "colab": {
          "base_uri": "https://localhost:8080/"
        },
        "id": "9vUlE2QM9DkW",
        "outputId": "6a6d942e-0700-4182-b418-3636948e2db2"
      },
      "execution_count": null,
      "outputs": [
        {
          "output_type": "execute_result",
          "data": {
            "text/plain": [
              "(False, False)"
            ]
          },
          "metadata": {},
          "execution_count": 20
        }
      ]
    },
    {
      "cell_type": "code",
      "source": [
        "bool(1), bool(24.1)"
      ],
      "metadata": {
        "colab": {
          "base_uri": "https://localhost:8080/"
        },
        "id": "ewRyEAyB9Fbf",
        "outputId": "310d5233-6e48-4951-b8e1-6d94119086fd"
      },
      "execution_count": null,
      "outputs": [
        {
          "output_type": "execute_result",
          "data": {
            "text/plain": [
              "(True, True)"
            ]
          },
          "metadata": {},
          "execution_count": 21
        }
      ]
    },
    {
      "cell_type": "code",
      "source": [
        "bool(-2), bool(-12.3)"
      ],
      "metadata": {
        "colab": {
          "base_uri": "https://localhost:8080/"
        },
        "id": "cl5aT5B39Gsx",
        "outputId": "43a50ce8-e466-4172-e280-afdb731816fc"
      },
      "execution_count": null,
      "outputs": [
        {
          "output_type": "execute_result",
          "data": {
            "text/plain": [
              "(True, True)"
            ]
          },
          "metadata": {},
          "execution_count": 22
        }
      ]
    },
    {
      "cell_type": "markdown",
      "source": [
        "Для `str`: пустые строки - в `False`, остальное - в `True`:"
      ],
      "metadata": {
        "id": "uxPh8Zt99LIr"
      }
    },
    {
      "cell_type": "code",
      "source": [
        "bool(''), bool('')"
      ],
      "metadata": {
        "colab": {
          "base_uri": "https://localhost:8080/"
        },
        "id": "TD-43Rhh9MF2",
        "outputId": "3a24a861-93f2-4af0-8e10-739c9903a7cb"
      },
      "execution_count": null,
      "outputs": [
        {
          "output_type": "execute_result",
          "data": {
            "text/plain": [
              "(False, False)"
            ]
          },
          "metadata": {},
          "execution_count": 85
        }
      ]
    },
    {
      "cell_type": "code",
      "source": [
        "bool(None)"
      ],
      "metadata": {
        "colab": {
          "base_uri": "https://localhost:8080/"
        },
        "id": "7KSVHDDJ1F-f",
        "outputId": "9372001f-394b-4995-8d2e-2542d5fbc483"
      },
      "execution_count": null,
      "outputs": [
        {
          "output_type": "execute_result",
          "data": {
            "text/plain": [
              "False"
            ]
          },
          "metadata": {},
          "execution_count": 83
        }
      ]
    },
    {
      "cell_type": "code",
      "source": [
        "bool(1+0j)"
      ],
      "metadata": {
        "colab": {
          "base_uri": "https://localhost:8080/"
        },
        "id": "jIw0OVzZ1a2G",
        "outputId": "58da67df-d67f-4c9e-febd-550b7c27c2b9"
      },
      "execution_count": null,
      "outputs": [
        {
          "output_type": "execute_result",
          "data": {
            "text/plain": [
              "True"
            ]
          },
          "metadata": {},
          "execution_count": 86
        }
      ]
    },
    {
      "cell_type": "code",
      "source": [
        "bool(0+1j)"
      ],
      "metadata": {
        "colab": {
          "base_uri": "https://localhost:8080/"
        },
        "id": "1GQHB-3i1dbD",
        "outputId": "bb605857-36f6-4aed-8a14-4285f606e076"
      },
      "execution_count": null,
      "outputs": [
        {
          "output_type": "execute_result",
          "data": {
            "text/plain": [
              "True"
            ]
          },
          "metadata": {},
          "execution_count": 87
        }
      ]
    },
    {
      "cell_type": "code",
      "source": [
        "bool(0+0j)"
      ],
      "metadata": {
        "colab": {
          "base_uri": "https://localhost:8080/"
        },
        "id": "I9K6I52u1gbs",
        "outputId": "61030dd6-8ae1-4f51-e9d3-60a28d5fc278"
      },
      "execution_count": null,
      "outputs": [
        {
          "output_type": "execute_result",
          "data": {
            "text/plain": [
              "False"
            ]
          },
          "metadata": {},
          "execution_count": 88
        }
      ]
    },
    {
      "cell_type": "markdown",
      "metadata": {
        "pycharm": {
          "name": "#%% md\n"
        },
        "id": "7j6pHZG0quBZ"
      },
      "source": [
        "# Операторы сравнения"
      ]
    },
    {
      "cell_type": "markdown",
      "source": [
        "- `<`, `<=` - \"меньше\", \"меньше или равно\"\n",
        "- `>`, `>=` - \"больше\", \"больше или равно\"\n",
        "- `==`, `!=` - \"равно\", \"не равно\""
      ],
      "metadata": {
        "id": "_-iRqumnEOEo"
      }
    },
    {
      "cell_type": "code",
      "execution_count": null,
      "metadata": {
        "pycharm": {
          "name": "#%%\n"
        },
        "id": "zDXk3vzXquBZ",
        "outputId": "3632c5d2-8bb3-4cf6-e58b-397f32d53178",
        "colab": {
          "base_uri": "https://localhost:8080/"
        }
      },
      "outputs": [
        {
          "output_type": "execute_result",
          "data": {
            "text/plain": [
              "True"
            ]
          },
          "metadata": {},
          "execution_count": 42
        }
      ],
      "source": [
        "4 < 5"
      ]
    },
    {
      "cell_type": "code",
      "source": [
        "3 >= 2"
      ],
      "metadata": {
        "colab": {
          "base_uri": "https://localhost:8080/"
        },
        "id": "k7n5RQWXEmcH",
        "outputId": "6556da9e-58c0-4cb1-d263-519aad3e4570"
      },
      "execution_count": null,
      "outputs": [
        {
          "output_type": "execute_result",
          "data": {
            "text/plain": [
              "True"
            ]
          },
          "metadata": {},
          "execution_count": 43
        }
      ]
    },
    {
      "cell_type": "code",
      "source": [
        "1 != 1"
      ],
      "metadata": {
        "colab": {
          "base_uri": "https://localhost:8080/"
        },
        "id": "ohEh-Dh_EnhT",
        "outputId": "9bb9ddc1-adc7-4b88-94d6-039553ceb0dc"
      },
      "execution_count": null,
      "outputs": [
        {
          "output_type": "execute_result",
          "data": {
            "text/plain": [
              "False"
            ]
          },
          "metadata": {},
          "execution_count": 44
        }
      ]
    },
    {
      "cell_type": "markdown",
      "metadata": {
        "pycharm": {
          "name": "#%% md\n"
        },
        "id": "lVO41WlLquBZ"
      },
      "source": [
        "Также можно сравнивать строки, списки и кортежи. Сравнение происходит лексикографически (как в словаре):"
      ]
    },
    {
      "cell_type": "code",
      "execution_count": null,
      "metadata": {
        "pycharm": {
          "name": "#%%\n"
        },
        "id": "nTMo-9HtquBZ",
        "outputId": "18756c84-ef72-4be9-b998-a513b8ef3c78",
        "colab": {
          "base_uri": "https://localhost:8080/"
        }
      },
      "outputs": [
        {
          "output_type": "execute_result",
          "data": {
            "text/plain": [
              "True"
            ]
          },
          "metadata": {},
          "execution_count": 45
        }
      ],
      "source": [
        "'a' < 'b'"
      ]
    },
    {
      "cell_type": "code",
      "source": [
        "'aa' < 'ab'"
      ],
      "metadata": {
        "colab": {
          "base_uri": "https://localhost:8080/"
        },
        "id": "uwYCFHc7Eum9",
        "outputId": "94d411b6-9895-4f4c-eed8-49eb18fb5cb2"
      },
      "execution_count": null,
      "outputs": [
        {
          "output_type": "execute_result",
          "data": {
            "text/plain": [
              "True"
            ]
          },
          "metadata": {},
          "execution_count": 46
        }
      ]
    },
    {
      "cell_type": "code",
      "source": [
        "'aaaa' < 'ab'"
      ],
      "metadata": {
        "colab": {
          "base_uri": "https://localhost:8080/"
        },
        "id": "W6KRrul0EwCB",
        "outputId": "6b35774e-a83a-43f5-d009-01c51cac1bdf"
      },
      "execution_count": null,
      "outputs": [
        {
          "output_type": "execute_result",
          "data": {
            "text/plain": [
              "True"
            ]
          },
          "metadata": {},
          "execution_count": 47
        }
      ]
    },
    {
      "cell_type": "markdown",
      "metadata": {
        "pycharm": {
          "name": "#%% md\n"
        },
        "id": "_nyQDoisquBY"
      },
      "source": [
        "### Логические операторы"
      ]
    },
    {
      "cell_type": "markdown",
      "source": [
        "Python позволять логические операции:\n",
        "\n",
        "- `and` - логическое И, логическое произведение\n",
        "- `or` - логическое ИЛИ, логическая сумма\n",
        "- `not` - логическое НЕ"
      ],
      "metadata": {
        "id": "GmrGTRYf_rm3"
      }
    },
    {
      "cell_type": "code",
      "execution_count": null,
      "metadata": {
        "pycharm": {
          "name": "#%%\n"
        },
        "id": "XmdFzdRtquBY"
      },
      "outputs": [],
      "source": [
        "a, b = True, False"
      ]
    },
    {
      "cell_type": "code",
      "source": [
        "a and b"
      ],
      "metadata": {
        "colab": {
          "base_uri": "https://localhost:8080/"
        },
        "id": "D5SfOexHATPj",
        "outputId": "d183862c-f081-475f-a223-0c9de7144476"
      },
      "execution_count": null,
      "outputs": [
        {
          "output_type": "execute_result",
          "data": {
            "text/plain": [
              "False"
            ]
          },
          "metadata": {},
          "execution_count": 38
        }
      ]
    },
    {
      "cell_type": "code",
      "source": [
        "a or b"
      ],
      "metadata": {
        "colab": {
          "base_uri": "https://localhost:8080/"
        },
        "id": "hYKSDKRlAQie",
        "outputId": "221e9c2e-751a-4d6b-c766-c4d3a0a8be22"
      },
      "execution_count": null,
      "outputs": [
        {
          "output_type": "execute_result",
          "data": {
            "text/plain": [
              "True"
            ]
          },
          "metadata": {},
          "execution_count": 39
        }
      ]
    },
    {
      "cell_type": "code",
      "source": [
        "not b"
      ],
      "metadata": {
        "colab": {
          "base_uri": "https://localhost:8080/"
        },
        "id": "ID4Z83_gAP8T",
        "outputId": "ead10833-0e90-4be6-a102-e4f84ab56bc0"
      },
      "execution_count": null,
      "outputs": [
        {
          "output_type": "execute_result",
          "data": {
            "text/plain": [
              "True"
            ]
          },
          "metadata": {},
          "execution_count": 36
        }
      ]
    },
    {
      "cell_type": "markdown",
      "metadata": {
        "pycharm": {
          "name": "#%% md\n"
        },
        "id": "lJaK5peIquBa"
      },
      "source": [
        "# Работа с вводом-выводом"
      ]
    },
    {
      "cell_type": "markdown",
      "source": [
        "Для считывания данных из `stdin` (стандартный ввод) используется функция `input()`:"
      ],
      "metadata": {
        "id": "95zsf3_M39Ce"
      }
    },
    {
      "cell_type": "code",
      "execution_count": null,
      "metadata": {
        "pycharm": {
          "name": "#%%\n"
        },
        "id": "Bm-LfKbwquBa",
        "outputId": "939d23c9-37ab-4742-881e-f549d2b7e16d",
        "colab": {
          "base_uri": "https://localhost:8080/",
          "height": 52
        }
      },
      "outputs": [
        {
          "name": "stdout",
          "output_type": "stream",
          "text": [
            "213567ываыва\n"
          ]
        },
        {
          "output_type": "execute_result",
          "data": {
            "text/plain": [
              "'213567ываыва'"
            ],
            "application/vnd.google.colaboratory.intrinsic+json": {
              "type": "string"
            }
          },
          "metadata": {},
          "execution_count": 125
        }
      ],
      "source": [
        "t = input()\n",
        "t"
      ]
    },
    {
      "cell_type": "code",
      "execution_count": null,
      "metadata": {
        "pycharm": {
          "name": "#%%\n"
        },
        "id": "yiu_rAxOquBa",
        "outputId": "c2ab94a8-8bab-4efb-bd87-5f42dec64aa1",
        "colab": {
          "base_uri": "https://localhost:8080/",
          "height": 52
        }
      },
      "outputs": [
        {
          "name": "stdout",
          "output_type": "stream",
          "text": [
            "Input here: йцукен\n"
          ]
        },
        {
          "output_type": "execute_result",
          "data": {
            "text/plain": [
              "'йцукен'"
            ],
            "application/vnd.google.colaboratory.intrinsic+json": {
              "type": "string"
            }
          },
          "metadata": {},
          "execution_count": 126
        }
      ],
      "source": [
        "s = input(\"Input here: \")\n",
        "s"
      ]
    },
    {
      "cell_type": "markdown",
      "metadata": {
        "pycharm": {
          "name": "#%% md\n"
        },
        "id": "UEMuMeBBquBa"
      },
      "source": [
        "Для вывода данных в `stdout` (стандартный вывод) используется `print()`:"
      ]
    },
    {
      "cell_type": "code",
      "execution_count": null,
      "metadata": {
        "pycharm": {
          "name": "#%%\n"
        },
        "id": "D4IKMP58quBb",
        "outputId": "0530e629-30f7-43ce-adec-d532ea30f1f4"
      },
      "outputs": [
        {
          "name": "stdout",
          "output_type": "stream",
          "text": [
            "spam_and_eggs!"
          ]
        }
      ],
      "source": [
        "print('spam', 'and', 'eggs', end='!', sep='_')"
      ]
    },
    {
      "cell_type": "code",
      "execution_count": null,
      "metadata": {
        "pycharm": {
          "name": "#%%\n"
        },
        "id": "7gTX2BDNquBb",
        "outputId": "f479f0e4-3eae-4504-8b27-6f7e4ac64eaf"
      },
      "outputs": [
        {
          "name": "stdout",
          "output_type": "stream",
          "text": [
            "end"
          ]
        }
      ],
      "source": [
        "print('e', end='')\n",
        "print('n', end='')\n",
        "print('d', end='')"
      ]
    },
    {
      "cell_type": "markdown",
      "metadata": {
        "pycharm": {
          "name": "#%% md\n"
        },
        "id": "MYXhqKPCquBb"
      },
      "source": [
        "# Как запустить программу на Python"
      ]
    },
    {
      "cell_type": "markdown",
      "source": [
        "Сначала нужно установить Python. Проще всего поставить его из магазинов приложений / менеджеров пакетов вашей ОС (Windows Store, App Store, apt, pacman etc)."
      ],
      "metadata": {
        "id": "LWW0k8fuMhg5"
      }
    },
    {
      "cell_type": "markdown",
      "source": [
        "Запустить программу на Python можно несколькими способами:"
      ],
      "metadata": {
        "id": "jtcQTwMHJy2w"
      }
    },
    {
      "cell_type": "markdown",
      "source": [
        "## Интерпретатор из командной строки"
      ],
      "metadata": {
        "id": "DEGaRW9gJXFS"
      }
    },
    {
      "cell_type": "markdown",
      "source": [
        "Самый простой способ. Удобен для небольшой работы, например, когда нужно что-то быстро посчитать (Python как продвинутый научный калькулятор):\n",
        "\n",
        "```bash\n",
        "user@computer:~$ python3\n",
        "Python 3.8.10 (default, Nov 26 2021, 20:14:08)\n",
        "[GCC 9.3.0] on linux\n",
        "Type \"help\", \"copyright\", \"credits\" or \"license\" for more information.\n",
        ">>>   \n",
        "```"
      ],
      "metadata": {
        "id": "IVqUvsfWaErM"
      }
    },
    {
      "cell_type": "markdown",
      "source": [
        "## Запуск интерпретации файла"
      ],
      "metadata": {
        "id": "6cWHmr25JcSk"
      }
    },
    {
      "cell_type": "markdown",
      "source": [
        "Второй вариант создания программ на Python - писат код в текстовом редакторе в файл, а затем запускать процесс его интерпретации командой: \n",
        "\n",
        "```bash\n",
        "python hello_world.py\n",
        "```"
      ],
      "metadata": {
        "id": "OPdpg7O_aCdW"
      }
    },
    {
      "cell_type": "markdown",
      "source": [
        "## Продвинутые интерпретаторы командной строки"
      ],
      "metadata": {
        "id": "eB5LjY0YLwJ2"
      }
    },
    {
      "cell_type": "markdown",
      "source": [
        "Командная строка - не самая удобная среда для разработки. Проект [ipython](https://ipython.org/) улучшает работу в консоли с помощью разных [доработок](https://ipython.readthedocs.io/en/stable/interactive/python-ipython-diff.html), например, возможности дополнения кода (tab-completion).\n",
        "\n",
        "<div><img src=\"https://s3-us-west-1.amazonaws.com/plotly-tutorials/plotly-documentation/images/ipython-console.png\" height=300px/></div>\n",
        "\n",
        "*Source: [Plotly](https://plotly.com/python/ipython-vs-python/)*"
      ],
      "metadata": {
        "id": "Prb98mesaK-M"
      }
    },
    {
      "cell_type": "markdown",
      "source": [
        "### Jupyter Notebook и Google Colab"
      ],
      "metadata": {
        "id": "xmlWj4ul3lGb"
      }
    },
    {
      "cell_type": "markdown",
      "source": [
        "Дальнейшим развитием ipython стал [Jupyter Notebook](https://jupyter.org/), который по сути вы сейчас и используете. Он позволяет выполнять редактирование кода в окне браузера (в том числе на удаленном сервере) и вставлять не только ячейки с кодом на Python, но и с markdown (облегченный язык разметки текста, см. [туториал](https://www.markdownguide.org/cheat-sheet/))."
      ],
      "metadata": {
        "id": "nUaolCv0aOFT"
      }
    },
    {
      "cell_type": "markdown",
      "source": [
        "<img src=\"https://jupyter.org/assets/homepage/main-logo.svg\" width=200/>\n",
        "\n",
        "Название проекта Jupyter - это ссылка на три основных языка программирования, поддерживаемых Jupyter: Julia, Python и R, а также дань уважения записным книжкам Галилея, записывающим открытие лун Юпитера. Проект Jupyter разработал и поддержал интерактивные вычислительные продукты Jupyter Notebook, JupyterHub и JupyterLab, версию следующего поколения Jupyter Notebook. Философия проекта Jupyter заключается в поддержке интерактивной науки о данных."
      ],
      "metadata": {
        "id": "dtm2nw3f3195"
      }
    },
    {
      "cell_type": "markdown",
      "source": [
        "Чем удобен Jupyter Notebook? Блокнот (notebook) объединяет в себе:\n",
        "\n",
        "- код и его вывод\n",
        "- визуализации\n",
        "- повествовательный текст, математические уравнения и другие мультимедиа.\n",
        "\n",
        "Это свойство способствует итеративной и быстрой разработке, что делает ноутбуки все более популярным выбором для представления в данных и их анализа."
      ],
      "metadata": {
        "id": "z3sTdsr-ajmq"
      }
    },
    {
      "cell_type": "markdown",
      "source": [
        "С практической точки зрения, в ноутбуке есть два типа ячеек: \n",
        "- ячейки с текстом (как эта) - ячейки поддерживают язык разметки [Markdown](https://paulradzkov.com/2014/markdown_cheatsheet/), что позволяет красиво оформлять текст!\n",
        "- ячейки с кодом (запускали код в них) - позволяет выполнять код отдельными фрагментами с сохранением текущего состояния"
      ],
      "metadata": {
        "id": "7Q2u_BEb5rHb"
      }
    },
    {
      "cell_type": "markdown",
      "source": [
        "В рамках нашего курса мы будем использовать \"разновидность\" Jupyter Notebook'и - продукт Google Colab. Он позволяет без установки программ на ваш компьютер выполнять код на Python с использованием вычислительных мощностей Google. Имеется короткий [туториал от Google](https://colab.research.google.com/notebooks/welcome.ipynb#scrollTo=GJBs_flRovLc)."
      ],
      "metadata": {
        "id": "NU8pbvC16N0i"
      }
    },
    {
      "cell_type": "markdown",
      "source": [
        "## Базовая среда разработка\n",
        "\n"
      ],
      "metadata": {
        "id": "-KTItLFpJhNl"
      }
    },
    {
      "cell_type": "markdown",
      "source": [
        "Одна из самых простых IDE (Integrated Development Environment, интегрированная среда разработки) - [IDLE](https://docs.python.org/3/library/idle.html). Название с одной стороны является искажением IDE (с добавлением Learning), а с другой - отсылка на комика из группы \"Монти Пайтон\" Эрика Айдла.\n",
        "\n",
        "<div><img src=\"https://upload.wikimedia.org/wikipedia/commons/4/45/IDLE_%D0%B4%D0%BB%D1%8F_windows.jpg\"></div>\n",
        "\n",
        "*Source: [Wiki](https://ru.wikipedia.org/wiki/IDLE#/media/%D0%A4%D0%B0%D0%B9%D0%BB:IDLE_%D0%B4%D0%BB%D1%8F_windows.jpg)*\n",
        "\n",
        "**Занимательный факт** - IDLE написан на Python с использованием библиотеки tkinter."
      ],
      "metadata": {
        "id": "ptu7zBpZa3X2"
      }
    },
    {
      "cell_type": "markdown",
      "source": [
        "## Продвинутые IDE\n",
        "\n"
      ],
      "metadata": {
        "id": "3iB7Dw3PJiRn"
      }
    },
    {
      "cell_type": "markdown",
      "source": [
        "Создавать большие продвинутые проекты на Python в командной строке, обычном текстовом редакторе и даже в IDLE не очень удобно - хотелось бы иметь многие инструменты, такие как поддердка VCS, продвинутое автодополнение, дебаггинг, возможности рефакторинга и т.д. Здесь на помощь приходит [PyCharm](https://www.jetbrains.com/ru-ru/pycharm/).\n",
        "\n",
        "<div><img src=\"https://www.jetbrains.com/lp/pycharm-pro/static/1-go-to-declaration-8637ad4640eeb0b1f807592885d7ffbf.png\"></div>\n",
        "\n",
        "*Source: [JetBrains](https://www.jetbrains.com/lp/pycharm-pro/static/1-go-to-declaration-8637ad4640eeb0b1f807592885d7ffbf.png)*\n",
        "\n",
        "У JetBrains имеется бесплатная версия PyCharm Community Edition, которой более чем хватит для обучения."
      ],
      "metadata": {
        "id": "IOTs4LBea5zT"
      }
    }
  ],
  "metadata": {
    "celltoolbar": "Слайд-шоу",
    "kernelspec": {
      "display_name": "Python 3 (ipykernel)",
      "language": "python",
      "name": "python3"
    },
    "language_info": {
      "codemirror_mode": {
        "name": "ipython",
        "version": 3
      },
      "file_extension": ".py",
      "mimetype": "text/x-python",
      "name": "python",
      "nbconvert_exporter": "python",
      "pygments_lexer": "ipython3",
      "version": "3.9.5"
    },
    "colab": {
      "provenance": [],
      "include_colab_link": true
    }
  },
  "nbformat": 4,
  "nbformat_minor": 0
}